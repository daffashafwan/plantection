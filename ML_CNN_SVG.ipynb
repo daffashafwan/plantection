{
  "nbformat": 4,
  "nbformat_minor": 0,
  "metadata": {
    "colab": {
      "name": "ML_CNN_SVG.ipynb",
      "provenance": [],
      "include_colab_link": true
    },
    "kernelspec": {
      "name": "python3",
      "display_name": "Python 3"
    },
    "language_info": {
      "name": "python"
    }
  },
  "cells": [
    {
      "cell_type": "markdown",
      "metadata": {
        "id": "view-in-github",
        "colab_type": "text"
      },
      "source": [
        "<a href=\"https://colab.research.google.com/github/daffashafwan/finalprojectml/blob/master/ML_CNN_SVG.ipynb\" target=\"_parent\"><img src=\"https://colab.research.google.com/assets/colab-badge.svg\" alt=\"Open In Colab\"/></a>"
      ]
    },
    {
      "cell_type": "code",
      "metadata": {
        "colab": {
          "base_uri": "https://localhost:8080/"
        },
        "id": "TYG8HEb3Dkpa",
        "outputId": "fb4cb101-7ab1-49e1-f62d-8b4415ded58a"
      },
      "source": [
        "!wget -O download.tar.bz2 https://sourceforge.net/projects/flavia/files/Leaf%20Image%20Dataset/1.0/Leaves.tar.bz2/download"
      ],
      "execution_count": 1,
      "outputs": [
        {
          "output_type": "stream",
          "name": "stdout",
          "text": [
            "--2021-11-21 13:19:12--  https://sourceforge.net/projects/flavia/files/Leaf%20Image%20Dataset/1.0/Leaves.tar.bz2/download\n",
            "Resolving sourceforge.net (sourceforge.net)... 204.68.111.105\n",
            "Connecting to sourceforge.net (sourceforge.net)|204.68.111.105|:443... connected.\n",
            "HTTP request sent, awaiting response... 302 Found\n",
            "Location: https://downloads.sourceforge.net/project/flavia/Leaf%20Image%20Dataset/1.0/Leaves.tar.bz2?ts=gAAAAABhmkdQ5HfbaiuWgXZMEMXz1SvK47VHYFTFX-4XFFuf4oXCbW7FX4mdjCTbBaABaTyKbVrU5F_6Awuc8r78-Dqi0Eu53g%3D%3D&use_mirror=versaweb&r= [following]\n",
            "--2021-11-21 13:19:12--  https://downloads.sourceforge.net/project/flavia/Leaf%20Image%20Dataset/1.0/Leaves.tar.bz2?ts=gAAAAABhmkdQ5HfbaiuWgXZMEMXz1SvK47VHYFTFX-4XFFuf4oXCbW7FX4mdjCTbBaABaTyKbVrU5F_6Awuc8r78-Dqi0Eu53g%3D%3D&use_mirror=versaweb&r=\n",
            "Resolving downloads.sourceforge.net (downloads.sourceforge.net)... 204.68.111.105\n",
            "Connecting to downloads.sourceforge.net (downloads.sourceforge.net)|204.68.111.105|:443... connected.\n",
            "HTTP request sent, awaiting response... 302 Found\n",
            "Location: https://versaweb.dl.sourceforge.net/project/flavia/Leaf%20Image%20Dataset/1.0/Leaves.tar.bz2 [following]\n",
            "--2021-11-21 13:19:12--  https://versaweb.dl.sourceforge.net/project/flavia/Leaf%20Image%20Dataset/1.0/Leaves.tar.bz2\n",
            "Resolving versaweb.dl.sourceforge.net (versaweb.dl.sourceforge.net)... 162.251.232.173\n",
            "Connecting to versaweb.dl.sourceforge.net (versaweb.dl.sourceforge.net)|162.251.232.173|:443... connected.\n",
            "HTTP request sent, awaiting response... 200 OK\n",
            "Length: 965715159 (921M) [application/octet-stream]\n",
            "Saving to: ‘download.tar.bz2’\n",
            "\n",
            "download.tar.bz2    100%[===================>] 920.98M  5.03MB/s    in 3m 5s   \n",
            "\n",
            "2021-11-21 13:22:18 (4.97 MB/s) - ‘download.tar.bz2’ saved [965715159/965715159]\n",
            "\n"
          ]
        }
      ]
    },
    {
      "cell_type": "code",
      "metadata": {
        "id": "4rtnNrFsEDIf"
      },
      "source": [
        "#mengekstrak dataset\n",
        "!tar -xf download.tar.bz2"
      ],
      "execution_count": 2,
      "outputs": []
    },
    {
      "cell_type": "code",
      "metadata": {
        "id": "O9zglynvUQcv"
      },
      "source": [
        "!mkdir leaves_data"
      ],
      "execution_count": 3,
      "outputs": []
    },
    {
      "cell_type": "code",
      "metadata": {
        "id": "a4TiiEQ9UTRa"
      },
      "source": [
        "!mkdir 'leaves_data/pubescent bamboo' 'leaves_data/Chinese horse chestnut' 'leaves_data/Anhui Barberry' 'leaves_data/Chinese redbud' 'leaves_data/true indigo' 'leaves_data/Japanese maple' 'leaves_data/Nanmu' 'leaves_data/castor aralia' 'leaves_data/Chinese cinnamon' 'leaves_data/goldenrain tree' 'leaves_data/Big-fruited Holly' 'leaves_data/Japanese cheesewood' 'leaves_data/wintersweet' 'leaves_data/camphortree' 'leaves_data/Japan Arrowwood' 'leaves_data/sweet osmanthus' 'leaves_data/deodar' 'leaves_data/ginkgo, maidenhair tree' 'leaves_data/Crape myrtle, Crepe myrtle' 'leaves_data/oleander' 'leaves_data/yew plum pine' 'leaves_data/Japanese Flowering Cherry' 'leaves_data/Glossy Privet' 'leaves_data/Chinese Toon' 'leaves_data/peach' 'leaves_data/Ford Woodlotus' 'leaves_data/trident maple' 'leaves_data/Beales barberry' 'leaves_data/southern magnolia' 'leaves_data/Canadian poplar' 'leaves_data/Chinese tulip tree' 'leaves_data/tangerine'"
      ],
      "execution_count": 4,
      "outputs": []
    },
    {
      "cell_type": "code",
      "metadata": {
        "id": "zXLlohbdUVCB"
      },
      "source": [
        "import shutil\n",
        "import os\n",
        "\n",
        "for i in range(1552,1602):\n",
        "  paths = os.path.join('Leaves', (str(i) + '.jpg'))\n",
        "  shutil.copy(paths, 'leaves_data/Anhui Barberry')\n",
        "\n",
        "for i in range(3335,3385):\n",
        "  paths = os.path.join('Leaves', (str(i) + '.jpg'))\n",
        "  shutil.copy(paths, 'leaves_data/Beales barberry')\n",
        "\n",
        "for i in range(2001,2050):\n",
        "    paths = os.path.join('Leaves', (str(i) + '.jpg'))\n",
        "    shutil.copy(paths, 'leaves_data/Big-fruited Holly')\n",
        "\n",
        "for i in range(3447,3497):\n",
        "    paths = os.path.join('Leaves', (str(i) + '.jpg'))\n",
        "    shutil.copy(paths, 'leaves_data/Canadian poplar')\n",
        "\n",
        "for i in range(3111,3161):\n",
        "    paths = os.path.join('Leaves', (str(i) + '.jpg'))\n",
        "    shutil.copy(paths, 'leaves_data/Chinese Toon')\n",
        "\n",
        "for i in range(1497,1547):\n",
        "    paths = os.path.join('Leaves', (str(i) + '.jpg'))\n",
        "    shutil.copy(paths, 'leaves_data/Chinese cinnamon')\n",
        "\n",
        "for i in range(1060,1110):\n",
        "    paths = os.path.join('Leaves', (str(i) + '.jpg'))\n",
        "    shutil.copy(paths, 'leaves_data/Chinese horse chestnut')\n",
        "\n",
        "for i in range(1123,1173):\n",
        "    paths = os.path.join('Leaves', (str(i) + '.jpg'))\n",
        "    shutil.copy(paths, 'leaves_data/Chinese redbud')\n",
        "\n",
        "for i in range(3511,3561):\n",
        "    paths = os.path.join('Leaves', (str(i) + '.jpg'))\n",
        "    shutil.copy(paths, 'leaves_data/Chinese tulip tree')\n",
        "\n",
        "for i in range(2486,2536):\n",
        "    paths = os.path.join('Leaves', (str(i) + '.jpg'))\n",
        "    shutil.copy(paths, 'leaves_data/Crape myrtle, Crepe myrtle')\n",
        "\n",
        "for i in range(3230,3280):\n",
        "    paths = os.path.join('Leaves', (str(i) + '.jpg'))\n",
        "    shutil.copy(paths, 'leaves_data/Ford Woodlotus')\n",
        "\n",
        "for i in range(3056,3106):\n",
        "    paths = os.path.join('Leaves', (str(i) + '.jpg'))\n",
        "    shutil.copy(paths, 'leaves_data/Glossy Privet')\n",
        "\n",
        "for i in range(2231,2281):\n",
        "    paths = os.path.join('Leaves', (str(i) + '.jpg'))\n",
        "    shutil.copy(paths, 'leaves_data/Japan Arrowwood')\n",
        "\n",
        "for i in range(3001,3051):\n",
        "    paths = os.path.join('Leaves', (str(i) + '.jpg'))\n",
        "    shutil.copy(paths, 'leaves_data/Japanese Flowering Cherry')\n",
        "\n",
        "for i in range(2051,2101):\n",
        "    paths = os.path.join('Leaves', (str(i) + '.jpg'))\n",
        "    shutil.copy(paths, 'leaves_data/Japanese cheesewood')\n",
        "\n",
        "for i in range(1268,1318):\n",
        "    paths = os.path.join('Leaves', (str(i) + '.jpg'))\n",
        "    shutil.copy(paths, 'leaves_data/Japanese maple')\n",
        "\n",
        "for i in range(1324,1374):\n",
        "    paths = os.path.join('Leaves', (str(i) + '.jpg'))\n",
        "    shutil.copy(paths, 'leaves_data/Nanmu')\n",
        "\n",
        "for i in range(2166,2216):\n",
        "    paths = os.path.join('Leaves', (str(i) + '.jpg'))\n",
        "    shutil.copy(paths, 'leaves_data/camphortree')\n",
        "\n",
        "for i in range(1386,1436):\n",
        "    paths = os.path.join('Leaves', (str(i) + '.jpg'))\n",
        "    shutil.copy(paths, 'leaves_data/castor aralia')\n",
        "\n",
        "for i in range(2347,2397):\n",
        "    paths = os.path.join('Leaves', (str(i) + '.jpg'))\n",
        "    shutil.copy(paths, 'leaves_data/deodar')\n",
        "\n",
        "for i in range(2424,2474):\n",
        "    paths = os.path.join('Leaves', (str(i) + '.jpg'))\n",
        "    shutil.copy(paths, 'leaves_data/ginkgo, maidenhair tree')\n",
        "\n",
        "for i in range(1438,1488):\n",
        "    paths = os.path.join('Leaves', (str(i) + '.jpg'))\n",
        "    shutil.copy(paths, 'leaves_data/goldenrain tree')\n",
        "\n",
        "for i in range(2547,2597):\n",
        "    paths = os.path.join('Leaves', (str(i) + '.jpg'))\n",
        "    shutil.copy(paths, 'leaves_data/oleander')\n",
        "\n",
        "for i in range(3176,3226):\n",
        "    paths = os.path.join('Leaves', (str(i) + '.jpg'))\n",
        "    shutil.copy(paths, 'leaves_data/peach')\n",
        "\n",
        "for i in range(1001,1051):\n",
        "    paths = os.path.join('Leaves', (str(i) + '.jpg'))\n",
        "    shutil.copy(paths, 'leaves_data/pubescent bamboo')\n",
        "\n",
        "for i in range(3390,3440):\n",
        "    paths = os.path.join('Leaves', (str(i) + '.jpg'))\n",
        "    shutil.copy(paths, 'leaves_data/southern magnolia')\n",
        "\n",
        "for i in range(2291,2341):\n",
        "    paths = os.path.join('Leaves', (str(i) + '.jpg'))\n",
        "    shutil.copy(paths, 'leaves_data/sweet osmanthus')\n",
        "\n",
        "for i in range(3566,3616):\n",
        "    paths = os.path.join('Leaves', (str(i) + '.jpg'))\n",
        "    shutil.copy(paths, 'leaves_data/tangerine')\n",
        "\n",
        "for i in range(3282,3332):\n",
        "    paths = os.path.join('Leaves', (str(i) + '.jpg'))\n",
        "    shutil.copy(paths, 'leaves_data/trident maple')\n",
        "\n",
        "for i in range(1195,1245):\n",
        "    paths = os.path.join('Leaves', (str(i) + '.jpg'))\n",
        "    shutil.copy(paths, 'leaves_data/true indigo')\n",
        "\n",
        "for i in range(2114,2164):\n",
        "    paths = os.path.join('Leaves', (str(i) + '.jpg'))\n",
        "    shutil.copy(paths, 'leaves_data/wintersweet')\n",
        "\n",
        "for i in range(2616,2666):\n",
        "    paths = os.path.join('Leaves', (str(i) + '.jpg'))\n",
        "    shutil.copy(paths, 'leaves_data/yew plum pine')"
      ],
      "execution_count": 5,
      "outputs": []
    },
    {
      "cell_type": "code",
      "metadata": {
        "colab": {
          "base_uri": "https://localhost:8080/"
        },
        "id": "FeATs0NmUWxH",
        "outputId": "775416ee-f953-4fbb-84eb-84e6fed5f9a9"
      },
      "source": [
        "!pip install split-folders"
      ],
      "execution_count": 6,
      "outputs": [
        {
          "output_type": "stream",
          "name": "stdout",
          "text": [
            "Collecting split-folders\n",
            "  Downloading split_folders-0.4.3-py3-none-any.whl (7.4 kB)\n",
            "Installing collected packages: split-folders\n",
            "Successfully installed split-folders-0.4.3\n"
          ]
        }
      ]
    },
    {
      "cell_type": "code",
      "metadata": {
        "id": "yfGLt92sUfRC"
      },
      "source": [
        "!mkdir 'leaves_data_base'"
      ],
      "execution_count": 7,
      "outputs": []
    },
    {
      "cell_type": "code",
      "metadata": {
        "colab": {
          "base_uri": "https://localhost:8080/"
        },
        "id": "OuSUvcw7UgD_",
        "outputId": "c765e01b-24c1-477d-81d1-10a250454417"
      },
      "source": [
        "import splitfolders  # or import split_folders\n",
        "\n",
        "# Split with a ratio.\n",
        "# To only split into training and validation set, set a tuple to `ratio`, i.e, `(.8, .2)`.\n",
        "splitfolders.ratio(\"leaves_data\", output=\"leaves_data_base\", seed=1337, ratio=(.8, .2), group_prefix=None) # default values"
      ],
      "execution_count": 8,
      "outputs": [
        {
          "output_type": "stream",
          "name": "stderr",
          "text": [
            "Copying files: 1599 files [00:03, 437.03 files/s]\n"
          ]
        }
      ]
    },
    {
      "cell_type": "code",
      "metadata": {
        "id": "y9L_1kqnEEjc"
      },
      "source": [
        "# Definisikan path untuk data train dan data validation\n",
        "\n",
        "base_dir = 'leaves_data_base'\n",
        "\n",
        "train_dir = os.path.join(base_dir, 'train')\n",
        "validation_dir = os.path.join(base_dir, 'val')"
      ],
      "execution_count": 9,
      "outputs": []
    },
    {
      "cell_type": "code",
      "metadata": {
        "id": "9gc0BCSREF0M"
      },
      "source": [
        "import cv2\n",
        "import numpy as np\n",
        "\n",
        "# Gather data train\n",
        "train_data = []\n",
        "train_label = []\n",
        "for r, d, f in os.walk(train_dir):\n",
        "    for file in f:\n",
        "        if \".jpg\" in file:\n",
        "            imagePath = os.path.join(r, file)\n",
        "            image = cv2.imread(imagePath)\n",
        "            image = cv2.resize(image, (150,150))\n",
        "            train_data.append(image)\n",
        "            label = imagePath.split(os.path.sep)[-2]\n",
        "            train_label.append(label)\n",
        "\n",
        "train_data = np.array(train_data)\n",
        "train_label = np.array(train_label)"
      ],
      "execution_count": 10,
      "outputs": []
    },
    {
      "cell_type": "code",
      "metadata": {
        "id": "FuoKFhhVEG_O"
      },
      "source": [
        "# Gather data validation\n",
        "val_data = []\n",
        "val_label = []\n",
        "for r, d, f in os.walk(validation_dir):\n",
        "    for file in f:\n",
        "        if \".jpg\" in file:\n",
        "            imagePath = os.path.join(r, file)\n",
        "            image = cv2.imread(imagePath)\n",
        "            image = cv2.resize(image, (150,150))\n",
        "            val_data.append(image)\n",
        "            label = imagePath.split(os.path.sep)[-2]\n",
        "            val_label.append(label)\n",
        "\n",
        "val_data = np.array(val_data)\n",
        "val_label = np.array(val_label)"
      ],
      "execution_count": 11,
      "outputs": []
    },
    {
      "cell_type": "markdown",
      "metadata": {
        "id": "kiXbwrN3ELqv"
      },
      "source": [
        "<h3>Data Preprocessing</h3>"
      ]
    },
    {
      "cell_type": "code",
      "metadata": {
        "colab": {
          "base_uri": "https://localhost:8080/"
        },
        "id": "m5VhnvtrEI1I",
        "outputId": "4d93f79b-6f68-4672-dfe9-456eb45c7121"
      },
      "source": [
        "# Tampilkan shape dari data train dan data validation\n",
        "print(\"Train Data = \", train_data.shape)\n",
        "print(\"Train Label = \", train_label.shape)\n",
        "print(\"Validation Data = \", val_data.shape)\n",
        "print(\"Validation Label = \", val_label.shape)"
      ],
      "execution_count": 12,
      "outputs": [
        {
          "output_type": "stream",
          "name": "stdout",
          "text": [
            "Train Data =  (1279, 150, 150, 3)\n",
            "Train Label =  (1279,)\n",
            "Validation Data =  (320, 150, 150, 3)\n",
            "Validation Label =  (320,)\n"
          ]
        }
      ]
    },
    {
      "cell_type": "code",
      "metadata": {
        "colab": {
          "base_uri": "https://localhost:8080/"
        },
        "id": "q1LVp6dCENne",
        "outputId": "0fde8809-15fd-4239-f67c-1135753b17df"
      },
      "source": [
        "# Normalisasi dataset\n",
        "print(\"Data sebelum di-normalisasi \", train_data[0][0][0])\n",
        "\n",
        "x_train = train_data.astype('float32') / 255.0\n",
        "x_val = val_data.astype('float32') / 255.0\n",
        "print(\"Data setelah di-normalisasi \", x_train[0][0][0])"
      ],
      "execution_count": 13,
      "outputs": [
        {
          "output_type": "stream",
          "name": "stdout",
          "text": [
            "Data sebelum di-normalisasi  [255 255 255]\n",
            "Data setelah di-normalisasi  [1. 1. 1.]\n"
          ]
        }
      ]
    },
    {
      "cell_type": "code",
      "metadata": {
        "colab": {
          "base_uri": "https://localhost:8080/"
        },
        "id": "tc7FivC6EPhm",
        "outputId": "1d68b464-56a1-47e8-dc36-fabc9d859804"
      },
      "source": [
        "# Transformasi label encoder\n",
        "from sklearn.preprocessing import LabelEncoder\n",
        "\n",
        "print(\"Label sebelum di-encoder \", train_label[995:1005])\n",
        "\n",
        "lb = LabelEncoder()\n",
        "y_train = lb.fit_transform(train_label)\n",
        "y_val = lb.fit_transform(val_label)\n",
        "\n",
        "print(\"Label setelah di-encoder \", y_train[995:1005])"
      ],
      "execution_count": 14,
      "outputs": [
        {
          "output_type": "stream",
          "name": "stdout",
          "text": [
            "Label sebelum di-encoder  ['yew plum pine' 'yew plum pine' 'yew plum pine' 'yew plum pine'\n",
            " 'oleander' 'oleander' 'oleander' 'oleander' 'oleander' 'oleander']\n",
            "Label setelah di-encoder  [31 31 31 31 22 22 22 22 22 22]\n"
          ]
        }
      ]
    },
    {
      "cell_type": "markdown",
      "metadata": {
        "id": "4jVWbOhOEzQJ"
      },
      "source": [
        "<h3>Definisikan Model</h3>"
      ]
    },
    {
      "cell_type": "code",
      "metadata": {
        "id": "usLiFiwAEvVb"
      },
      "source": [
        "from tensorflow.keras.models import Sequential\n",
        "from tensorflow.keras.layers import InputLayer, Dense, Conv2D, MaxPool2D, Flatten"
      ],
      "execution_count": 15,
      "outputs": []
    },
    {
      "cell_type": "code",
      "metadata": {
        "id": "rDwzxacpE1ei"
      },
      "source": [
        "# Feature Extraction Layer\n",
        "model = Sequential()\n",
        "\n",
        "model.add(InputLayer(input_shape=[150,150,3]))\n",
        "model.add(Conv2D(filters=16, kernel_size=3, strides=1, padding='same', activation='relu'))\n",
        "model.add(MaxPool2D(pool_size=2, padding='same'))\n",
        "model.add(Conv2D(filters=32, kernel_size=3, strides=1, padding='same', activation='relu'))\n",
        "model.add(MaxPool2D(pool_size=2, padding='same'))\n",
        "model.add(Conv2D(filters=64, kernel_size=3, strides=1, padding='same', activation='relu'))\n",
        "model.add(MaxPool2D(pool_size=2, padding='same'))\n",
        "model.add(Flatten())"
      ],
      "execution_count": 16,
      "outputs": []
    },
    {
      "cell_type": "code",
      "metadata": {
        "id": "Sud1AUF0E2k8"
      },
      "source": [
        "# Fully Connected Layer\n",
        "model.add(Dense(256, activation='relu'))\n",
        "model.add(Dense(128, activation='relu'))\n",
        "model.add(Dense(64, activation='relu'))\n",
        "model.add(Dense(32, activation='softmax'))"
      ],
      "execution_count": 17,
      "outputs": []
    },
    {
      "cell_type": "code",
      "metadata": {
        "colab": {
          "base_uri": "https://localhost:8080/"
        },
        "id": "XW-KE9ePE466",
        "outputId": "49bbb686-5ca7-4f12-fb87-383e40bbe393"
      },
      "source": [
        "# Print model summary\n",
        "print(model.summary())"
      ],
      "execution_count": 18,
      "outputs": [
        {
          "output_type": "stream",
          "name": "stdout",
          "text": [
            "Model: \"sequential\"\n",
            "_________________________________________________________________\n",
            " Layer (type)                Output Shape              Param #   \n",
            "=================================================================\n",
            " conv2d (Conv2D)             (None, 150, 150, 16)      448       \n",
            "                                                                 \n",
            " max_pooling2d (MaxPooling2D  (None, 75, 75, 16)       0         \n",
            " )                                                               \n",
            "                                                                 \n",
            " conv2d_1 (Conv2D)           (None, 75, 75, 32)        4640      \n",
            "                                                                 \n",
            " max_pooling2d_1 (MaxPooling  (None, 38, 38, 32)       0         \n",
            " 2D)                                                             \n",
            "                                                                 \n",
            " conv2d_2 (Conv2D)           (None, 38, 38, 64)        18496     \n",
            "                                                                 \n",
            " max_pooling2d_2 (MaxPooling  (None, 19, 19, 64)       0         \n",
            " 2D)                                                             \n",
            "                                                                 \n",
            " flatten (Flatten)           (None, 23104)             0         \n",
            "                                                                 \n",
            " dense (Dense)               (None, 256)               5914880   \n",
            "                                                                 \n",
            " dense_1 (Dense)             (None, 128)               32896     \n",
            "                                                                 \n",
            " dense_2 (Dense)             (None, 64)                8256      \n",
            "                                                                 \n",
            " dense_3 (Dense)             (None, 32)                2080      \n",
            "                                                                 \n",
            "=================================================================\n",
            "Total params: 5,981,696\n",
            "Trainable params: 5,981,696\n",
            "Non-trainable params: 0\n",
            "_________________________________________________________________\n",
            "None\n"
          ]
        }
      ]
    },
    {
      "cell_type": "code",
      "metadata": {
        "colab": {
          "base_uri": "https://localhost:8080/"
        },
        "id": "Tais64D7E5Zo",
        "outputId": "d05adf20-2fb1-4a4b-8132-2d2766d334f6"
      },
      "source": [
        "# Compile model\n",
        "from tensorflow.keras.optimizers import Adam\n",
        "\n",
        "model.compile(optimizer=Adam(lr=0.001), \n",
        "              loss='sparse_categorical_crossentropy', \n",
        "              metrics=['acc'])"
      ],
      "execution_count": 19,
      "outputs": [
        {
          "output_type": "stream",
          "name": "stderr",
          "text": [
            "/usr/local/lib/python3.7/dist-packages/keras/optimizer_v2/adam.py:105: UserWarning: The `lr` argument is deprecated, use `learning_rate` instead.\n",
            "  super(Adam, self).__init__(name, **kwargs)\n"
          ]
        }
      ]
    },
    {
      "cell_type": "markdown",
      "metadata": {
        "id": "NTNBH19iE8kt"
      },
      "source": [
        "<h3>Training Model</h3>"
      ]
    },
    {
      "cell_type": "code",
      "metadata": {
        "colab": {
          "base_uri": "https://localhost:8080/"
        },
        "id": "p4Vr8dyvE6pM",
        "outputId": "abd70747-d135-43a4-d7bb-86642ea85b27"
      },
      "source": [
        "H = model.fit(x_train, y_train, batch_size=32, epochs=15, validation_data=(x_val, y_val))"
      ],
      "execution_count": 20,
      "outputs": [
        {
          "output_type": "stream",
          "name": "stdout",
          "text": [
            "Epoch 1/15\n",
            "40/40 [==============================] - 29s 709ms/step - loss: 3.0733 - acc: 0.1704 - val_loss: 2.1086 - val_acc: 0.3344\n",
            "Epoch 2/15\n",
            "40/40 [==============================] - 28s 702ms/step - loss: 1.5414 - acc: 0.5403 - val_loss: 1.2848 - val_acc: 0.5875\n",
            "Epoch 3/15\n",
            "40/40 [==============================] - 29s 731ms/step - loss: 0.8289 - acc: 0.7420 - val_loss: 0.6393 - val_acc: 0.8062\n",
            "Epoch 4/15\n",
            "40/40 [==============================] - 28s 710ms/step - loss: 0.6011 - acc: 0.8202 - val_loss: 0.7951 - val_acc: 0.7719\n",
            "Epoch 5/15\n",
            "40/40 [==============================] - 28s 706ms/step - loss: 0.3955 - acc: 0.8710 - val_loss: 0.5759 - val_acc: 0.8375\n",
            "Epoch 6/15\n",
            "40/40 [==============================] - 28s 708ms/step - loss: 0.2224 - acc: 0.9265 - val_loss: 0.5643 - val_acc: 0.8500\n",
            "Epoch 7/15\n",
            "40/40 [==============================] - 28s 712ms/step - loss: 0.1492 - acc: 0.9484 - val_loss: 0.6147 - val_acc: 0.8125\n",
            "Epoch 8/15\n",
            "40/40 [==============================] - 28s 706ms/step - loss: 0.1439 - acc: 0.9562 - val_loss: 0.5485 - val_acc: 0.8719\n",
            "Epoch 9/15\n",
            "40/40 [==============================] - 28s 704ms/step - loss: 0.0391 - acc: 0.9906 - val_loss: 0.4837 - val_acc: 0.8969\n",
            "Epoch 10/15\n",
            "40/40 [==============================] - 28s 706ms/step - loss: 0.0155 - acc: 0.9969 - val_loss: 0.4796 - val_acc: 0.8844\n",
            "Epoch 11/15\n",
            "40/40 [==============================] - 28s 708ms/step - loss: 0.0256 - acc: 0.9953 - val_loss: 0.4763 - val_acc: 0.8938\n",
            "Epoch 12/15\n",
            "40/40 [==============================] - 29s 724ms/step - loss: 0.0369 - acc: 0.9914 - val_loss: 0.4377 - val_acc: 0.9062\n",
            "Epoch 13/15\n",
            "40/40 [==============================] - 29s 723ms/step - loss: 0.0723 - acc: 0.9875 - val_loss: 0.5508 - val_acc: 0.8531\n",
            "Epoch 14/15\n",
            "40/40 [==============================] - 29s 722ms/step - loss: 0.0622 - acc: 0.9812 - val_loss: 0.4364 - val_acc: 0.9156\n",
            "Epoch 15/15\n",
            "40/40 [==============================] - 29s 714ms/step - loss: 0.0544 - acc: 0.9844 - val_loss: 0.6456 - val_acc: 0.8406\n"
          ]
        }
      ]
    },
    {
      "cell_type": "markdown",
      "metadata": {
        "id": "HuxjW35RFCZ6"
      },
      "source": [
        "<h3>Evaluasi Model</h3>"
      ]
    },
    {
      "cell_type": "code",
      "metadata": {
        "colab": {
          "base_uri": "https://localhost:8080/",
          "height": 299
        },
        "id": "1AM3ms3zE_AU",
        "outputId": "6399ecc2-01ba-4372-e485-23ebbe18accf"
      },
      "source": [
        "%matplotlib inline\n",
        "\n",
        "import matplotlib.pyplot as plt\n",
        "\n",
        "plt.style.use(\"ggplot\")\n",
        "plt.figure()\n",
        "plt.plot(np.arange(0, 15), H.history[\"loss\"], label=\"train_loss\")\n",
        "plt.plot(np.arange(0, 15), H.history[\"val_loss\"], label=\"val_loss\")\n",
        "plt.title(\"Loss Plot\")\n",
        "plt.xlabel(\"Epoch #\")\n",
        "plt.ylabel(\"Loss\")\n",
        "plt.legend()\n",
        "plt.show()"
      ],
      "execution_count": 21,
      "outputs": [
        {
          "output_type": "display_data",
          "data": {
            "image/png": "[encoded data removed]",
            "text/plain": [
              "<Figure size 432x288 with 1 Axes>"
            ]
          },
          "metadata": {}
        }
      ]
    },
    {
      "cell_type": "code",
      "metadata": {
        "colab": {
          "base_uri": "https://localhost:8080/",
          "height": 34
        },
        "id": "enRl0yxyt4_2",
        "outputId": "c3a478ec-2ac5-439a-c210-aaa27fe1cb57"
      },
      "source": [
        "plt.savefig(\"loss.svg\", format=\"svg\")"
      ],
      "execution_count": 25,
      "outputs": [
        {
          "output_type": "display_data",
          "data": {
            "text/plain": [
              "<Figure size 432x288 with 0 Axes>"
            ]
          },
          "metadata": {}
        }
      ]
    },
    {
      "cell_type": "code",
      "metadata": {
        "colab": {
          "base_uri": "https://localhost:8080/",
          "height": 299
        },
        "id": "q1SJWudcFEDL",
        "outputId": "2dabbe22-046a-48e4-d940-95fdbfcc4e2d"
      },
      "source": [
        "plt.style.use(\"ggplot\")\n",
        "plt.figure()\n",
        "plt.plot(np.arange(0, 15), H.history[\"acc\"], label=\"train_acc\")\n",
        "plt.plot(np.arange(0, 15), H.history[\"val_acc\"], label=\"val_acc\")\n",
        "plt.title(\"Accuracy Plot\")\n",
        "plt.xlabel(\"Epoch #\")\n",
        "plt.ylabel(\"Acc\")\n",
        "plt.legend()\n",
        "plt.show()"
      ],
      "execution_count": 22,
      "outputs": [
        {
          "output_type": "display_data",
          "data": {
            "image/png": "[encoded data removed]",
            "text/plain": [
              "<Figure size 432x288 with 1 Axes>"
            ]
          },
          "metadata": {}
        }
      ]
    },
    {
      "cell_type": "code",
      "metadata": {
        "colab": {
          "base_uri": "https://localhost:8080/",
          "height": 34
        },
        "id": "D_WcZQHgt8qM",
        "outputId": "c32fc48c-ce90-47cb-bfb9-f903eb58478b"
      },
      "source": [
        "plt.savefig(\"acc.svg\", format=\"svg\")"
      ],
      "execution_count": 26,
      "outputs": [
        {
          "output_type": "display_data",
          "data": {
            "text/plain": [
              "<Figure size 432x288 with 0 Axes>"
            ]
          },
          "metadata": {}
        }
      ]
    },
    {
      "cell_type": "code",
      "metadata": {
        "colab": {
          "base_uri": "https://localhost:8080/",
          "height": 340
        },
        "id": "H_8mB3igFG-x",
        "outputId": "bb67f89f-6a98-4790-af02-42e4404bdb56"
      },
      "source": [
        "from sklearn.metrics import classification_report\n",
        "\n",
        "pred = model.predict(x_val)\n",
        "labels = (pred > 0.5).astype(np.int)\n",
        "\n",
        "print(classification_report(y_val, labels))"
      ],
      "execution_count": 24,
      "outputs": [
        {
          "output_type": "error",
          "ename": "ValueError",
          "evalue": "ignored",
          "traceback": [
            "\u001b[0;31m---------------------------------------------------------------------------\u001b[0m",
            "\u001b[0;31mValueError\u001b[0m                                Traceback (most recent call last)",
            "\u001b[0;32m<ipython-input-24-740d17bcb613>\u001b[0m in \u001b[0;36m<module>\u001b[0;34m()\u001b[0m\n\u001b[1;32m      4\u001b[0m \u001b[0mlabels\u001b[0m \u001b[0;34m=\u001b[0m \u001b[0;34m(\u001b[0m\u001b[0mpred\u001b[0m \u001b[0;34m>\u001b[0m \u001b[0;36m0.5\u001b[0m\u001b[0;34m)\u001b[0m\u001b[0;34m.\u001b[0m\u001b[0mastype\u001b[0m\u001b[0;34m(\u001b[0m\u001b[0mnp\u001b[0m\u001b[0;34m.\u001b[0m\u001b[0mint\u001b[0m\u001b[0;34m)\u001b[0m\u001b[0;34m\u001b[0m\u001b[0;34m\u001b[0m\u001b[0m\n\u001b[1;32m      5\u001b[0m \u001b[0;34m\u001b[0m\u001b[0m\n\u001b[0;32m----> 6\u001b[0;31m \u001b[0mprint\u001b[0m\u001b[0;34m(\u001b[0m\u001b[0mclassification_report\u001b[0m\u001b[0;34m(\u001b[0m\u001b[0my_val\u001b[0m\u001b[0;34m,\u001b[0m \u001b[0mlabels\u001b[0m\u001b[0;34m)\u001b[0m\u001b[0;34m)\u001b[0m\u001b[0;34m\u001b[0m\u001b[0;34m\u001b[0m\u001b[0m\n\u001b[0m",
            "\u001b[0;32m/usr/local/lib/python3.7/dist-packages/sklearn/metrics/_classification.py\u001b[0m in \u001b[0;36mclassification_report\u001b[0;34m(y_true, y_pred, labels, target_names, sample_weight, digits, output_dict, zero_division)\u001b[0m\n\u001b[1;32m   2074\u001b[0m     \"\"\"\n\u001b[1;32m   2075\u001b[0m \u001b[0;34m\u001b[0m\u001b[0m\n\u001b[0;32m-> 2076\u001b[0;31m     \u001b[0my_type\u001b[0m\u001b[0;34m,\u001b[0m \u001b[0my_true\u001b[0m\u001b[0;34m,\u001b[0m \u001b[0my_pred\u001b[0m \u001b[0;34m=\u001b[0m \u001b[0m_check_targets\u001b[0m\u001b[0;34m(\u001b[0m\u001b[0my_true\u001b[0m\u001b[0;34m,\u001b[0m \u001b[0my_pred\u001b[0m\u001b[0;34m)\u001b[0m\u001b[0;34m\u001b[0m\u001b[0;34m\u001b[0m\u001b[0m\n\u001b[0m\u001b[1;32m   2077\u001b[0m \u001b[0;34m\u001b[0m\u001b[0m\n\u001b[1;32m   2078\u001b[0m     \u001b[0;32mif\u001b[0m \u001b[0mlabels\u001b[0m \u001b[0;32mis\u001b[0m \u001b[0;32mNone\u001b[0m\u001b[0;34m:\u001b[0m\u001b[0;34m\u001b[0m\u001b[0;34m\u001b[0m\u001b[0m\n",
            "\u001b[0;32m/usr/local/lib/python3.7/dist-packages/sklearn/metrics/_classification.py\u001b[0m in \u001b[0;36m_check_targets\u001b[0;34m(y_true, y_pred)\u001b[0m\n\u001b[1;32m     93\u001b[0m         raise ValueError(\n\u001b[1;32m     94\u001b[0m             \"Classification metrics can't handle a mix of {0} and {1} targets\".format(\n\u001b[0;32m---> 95\u001b[0;31m                 \u001b[0mtype_true\u001b[0m\u001b[0;34m,\u001b[0m \u001b[0mtype_pred\u001b[0m\u001b[0;34m\u001b[0m\u001b[0;34m\u001b[0m\u001b[0m\n\u001b[0m\u001b[1;32m     96\u001b[0m             )\n\u001b[1;32m     97\u001b[0m         )\n",
            "\u001b[0;31mValueError\u001b[0m: Classification metrics can't handle a mix of multiclass and multilabel-indicator targets"
          ]
        }
      ]
    },
    {
      "cell_type": "code",
      "metadata": {
        "id": "2eVejEiQtJbM"
      },
      "source": [
        ""
      ],
      "execution_count": null,
      "outputs": []
    }
  ]
}