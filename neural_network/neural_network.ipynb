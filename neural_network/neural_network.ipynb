{
  "nbformat": 4,
  "nbformat_minor": 0,
  "metadata": {
    "colab": {
      "name": "neural_network.ipynb",
      "provenance": [],
      "collapsed_sections": [],
      "include_colab_link": true
    },
    "kernelspec": {
      "name": "python3",
      "display_name": "Python 3"
    },
    "language_info": {
      "name": "python"
    }
  },
  "cells": [
    {
      "cell_type": "markdown",
      "metadata": {
        "id": "view-in-github",
        "colab_type": "text"
      },
      "source": [
        "<a href=\"https://colab.research.google.com/github/daffashafwan/finalprojectml/blob/master/neural_network/neural_network.ipynb\" target=\"_parent\"><img src=\"https://colab.research.google.com/assets/colab-badge.svg\" alt=\"Open In Colab\"/></a>"
      ]
    },
    {
      "cell_type": "code",
      "metadata": {
        "colab": {
          "base_uri": "https://localhost:8080/"
        },
        "id": "HbEtzsONCbXH",
        "outputId": "68e5db8e-c265-4e49-e90a-9814b1b73b3c"
      },
      "source": [
        "!wget -O download.tar.bz2 https://sourceforge.net/projects/flavia/files/Leaf%20Image%20Dataset/1.0/Leaves.tar.bz2/download"
      ],
      "execution_count": 1,
      "outputs": [
        {
          "output_type": "stream",
          "name": "stdout",
          "text": [
            "--2021-11-01 13:07:52--  https://sourceforge.net/projects/flavia/files/Leaf%20Image%20Dataset/1.0/Leaves.tar.bz2/download\n",
            "Resolving sourceforge.net (sourceforge.net)... 204.68.111.105\n",
            "Connecting to sourceforge.net (sourceforge.net)|204.68.111.105|:443... connected.\n",
            "HTTP request sent, awaiting response... 302 Found\n",
            "Location: https://downloads.sourceforge.net/project/flavia/Leaf%20Image%20Dataset/1.0/Leaves.tar.bz2?ts=gAAAAABhf-aoKdpvJ7PHIbNcUnwnKAsAWJO9j7I9S3xMctplNKzrHSxJeoJVCa5P20EkJDfiel9eWZXmHfGwd2-KLLS98dSyCQ%3D%3D&use_mirror=newcontinuum&r= [following]\n",
            "--2021-11-01 13:07:53--  https://downloads.sourceforge.net/project/flavia/Leaf%20Image%20Dataset/1.0/Leaves.tar.bz2?ts=gAAAAABhf-aoKdpvJ7PHIbNcUnwnKAsAWJO9j7I9S3xMctplNKzrHSxJeoJVCa5P20EkJDfiel9eWZXmHfGwd2-KLLS98dSyCQ%3D%3D&use_mirror=newcontinuum&r=\n",
            "Resolving downloads.sourceforge.net (downloads.sourceforge.net)... 204.68.111.105\n",
            "Connecting to downloads.sourceforge.net (downloads.sourceforge.net)|204.68.111.105|:443... connected.\n",
            "HTTP request sent, awaiting response... 302 Found\n",
            "Location: https://newcontinuum.dl.sourceforge.net/project/flavia/Leaf%20Image%20Dataset/1.0/Leaves.tar.bz2 [following]\n",
            "--2021-11-01 13:07:53--  https://newcontinuum.dl.sourceforge.net/project/flavia/Leaf%20Image%20Dataset/1.0/Leaves.tar.bz2\n",
            "Resolving newcontinuum.dl.sourceforge.net (newcontinuum.dl.sourceforge.net)... 64.79.96.4, 2607:ff50:0:11::32\n",
            "Connecting to newcontinuum.dl.sourceforge.net (newcontinuum.dl.sourceforge.net)|64.79.96.4|:443... connected.\n",
            "HTTP request sent, awaiting response... 200 OK\n",
            "Length: 965715159 (921M) [application/octet-stream]\n",
            "Saving to: ‘download.tar.bz2’\n",
            "\n",
            "download.tar.bz2    100%[===================>] 920.98M  40.0MB/s    in 23s     \n",
            "\n",
            "2021-11-01 13:08:17 (39.6 MB/s) - ‘download.tar.bz2’ saved [965715159/965715159]\n",
            "\n"
          ]
        }
      ]
    },
    {
      "cell_type": "code",
      "metadata": {
        "id": "yFKl86g4nPL_"
      },
      "source": [
        "#mengekstrak dataset\n",
        "!tar -xf download.tar.bz2"
      ],
      "execution_count": 2,
      "outputs": []
    },
    {
      "cell_type": "code",
      "metadata": {
        "id": "lEbqHHtWCcZi"
      },
      "source": [
        "#buat folder untuk memisahkan per class\n",
        "!mkdir 'leaves_data'\n",
        "!mkdir 'leaves_data/pubescent bamboo' 'leaves_data/Chinese horse chestnut' 'leaves_data/Anhui Barberry' 'leaves_data/Chinese redbud' 'leaves_data/true indigo' 'leaves_data/Japanese maple' 'leaves_data/Nanmu' 'leaves_data/castor aralia' 'leaves_data/Chinese cinnamon' 'leaves_data/goldenrain tree' 'leaves_data/Big-fruited Holly' 'leaves_data/Japanese cheesewood' 'leaves_data/wintersweet' 'leaves_data/camphortree' 'leaves_data/Japan Arrowwood' 'leaves_data/sweet osmanthus' 'leaves_data/deodar' 'leaves_data/ginkgo, maidenhair tree' 'leaves_data/Crape myrtle, Crepe myrtle' 'leaves_data/oleander' 'leaves_data/yew plum pine' 'leaves_data/Japanese Flowering Cherry' 'leaves_data/Glossy Privet' 'leaves_data/Chinese Toon' 'leaves_data/peach' 'leaves_data/Ford Woodlotus' 'leaves_data/trident maple' 'leaves_data/Beales barberry' 'leaves_data/southern magnolia' 'leaves_data/Canadian poplar' 'leaves_data/Chinese tulip tree' 'leaves_data/tangerine'"
      ],
      "execution_count": 4,
      "outputs": []
    },
    {
      "cell_type": "code",
      "metadata": {
        "id": "_HJyDGKDnbz7"
      },
      "source": [
        "#copy dataset ke dalam masing masing class\n",
        "import shutil\n",
        "import os\n",
        "\n",
        "for i in range(1552,1602):\n",
        "  paths = os.path.join('Leaves', (str(i) + '.jpg'))\n",
        "  shutil.copy(paths, 'leaves_data/Anhui Barberry')\n",
        "\n",
        "for i in range(3335,3385):\n",
        "  paths = os.path.join('Leaves', (str(i) + '.jpg'))\n",
        "  shutil.copy(paths, 'leaves_data/Beales barberry')\n",
        "\n",
        "for i in range(2001,2050):\n",
        "    paths = os.path.join('Leaves', (str(i) + '.jpg'))\n",
        "    shutil.copy(paths, 'leaves_data/Big-fruited Holly')\n",
        "\n",
        "for i in range(3447,3497):\n",
        "    paths = os.path.join('Leaves', (str(i) + '.jpg'))\n",
        "    shutil.copy(paths, 'leaves_data/Canadian poplar')\n",
        "\n",
        "for i in range(3111,3161):\n",
        "    paths = os.path.join('Leaves', (str(i) + '.jpg'))\n",
        "    shutil.copy(paths, 'leaves_data/Chinese Toon')\n",
        "\n",
        "for i in range(1497,1547):\n",
        "    paths = os.path.join('Leaves', (str(i) + '.jpg'))\n",
        "    shutil.copy(paths, 'leaves_data/Chinese cinnamon')\n",
        "\n",
        "for i in range(1060,1110):\n",
        "    paths = os.path.join('Leaves', (str(i) + '.jpg'))\n",
        "    shutil.copy(paths, 'leaves_data/Chinese horse chestnut')\n",
        "\n",
        "for i in range(1123,1173):\n",
        "    paths = os.path.join('Leaves', (str(i) + '.jpg'))\n",
        "    shutil.copy(paths, 'leaves_data/Chinese redbud')\n",
        "\n",
        "for i in range(3511,3561):\n",
        "    paths = os.path.join('Leaves', (str(i) + '.jpg'))\n",
        "    shutil.copy(paths, 'leaves_data/Chinese tulip tree')\n",
        "\n",
        "for i in range(2486,2536):\n",
        "    paths = os.path.join('Leaves', (str(i) + '.jpg'))\n",
        "    shutil.copy(paths, 'leaves_data/Crape myrtle, Crepe myrtle')\n",
        "\n",
        "for i in range(3230,3280):\n",
        "    paths = os.path.join('Leaves', (str(i) + '.jpg'))\n",
        "    shutil.copy(paths, 'leaves_data/Ford Woodlotus')\n",
        "\n",
        "for i in range(3056,3106):\n",
        "    paths = os.path.join('Leaves', (str(i) + '.jpg'))\n",
        "    shutil.copy(paths, 'leaves_data/Glossy Privet')\n",
        "\n",
        "for i in range(2231,2281):\n",
        "    paths = os.path.join('Leaves', (str(i) + '.jpg'))\n",
        "    shutil.copy(paths, 'leaves_data/Japan Arrowwood')\n",
        "\n",
        "for i in range(3001,3051):\n",
        "    paths = os.path.join('Leaves', (str(i) + '.jpg'))\n",
        "    shutil.copy(paths, 'leaves_data/Japanese Flowering Cherry')\n",
        "\n",
        "for i in range(2051,2101):\n",
        "    paths = os.path.join('Leaves', (str(i) + '.jpg'))\n",
        "    shutil.copy(paths, 'leaves_data/Japanese cheesewood')\n",
        "\n",
        "for i in range(1268,1318):\n",
        "    paths = os.path.join('Leaves', (str(i) + '.jpg'))\n",
        "    shutil.copy(paths, 'leaves_data/Japanese maple')\n",
        "\n",
        "for i in range(1324,1374):\n",
        "    paths = os.path.join('Leaves', (str(i) + '.jpg'))\n",
        "    shutil.copy(paths, 'leaves_data/Nanmu')\n",
        "\n",
        "for i in range(2166,2216):\n",
        "    paths = os.path.join('Leaves', (str(i) + '.jpg'))\n",
        "    shutil.copy(paths, 'leaves_data/camphortree')\n",
        "\n",
        "for i in range(1386,1436):\n",
        "    paths = os.path.join('Leaves', (str(i) + '.jpg'))\n",
        "    shutil.copy(paths, 'leaves_data/castor aralia')\n",
        "\n",
        "for i in range(2347,2397):\n",
        "    paths = os.path.join('Leaves', (str(i) + '.jpg'))\n",
        "    shutil.copy(paths, 'leaves_data/deodar')\n",
        "\n",
        "for i in range(2424,2474):\n",
        "    paths = os.path.join('Leaves', (str(i) + '.jpg'))\n",
        "    shutil.copy(paths, 'leaves_data/ginkgo, maidenhair tree')\n",
        "\n",
        "for i in range(1438,1488):\n",
        "    paths = os.path.join('Leaves', (str(i) + '.jpg'))\n",
        "    shutil.copy(paths, 'leaves_data/goldenrain tree')\n",
        "\n",
        "for i in range(2547,2597):\n",
        "    paths = os.path.join('Leaves', (str(i) + '.jpg'))\n",
        "    shutil.copy(paths, 'leaves_data/oleander')\n",
        "\n",
        "for i in range(3176,3226):\n",
        "    paths = os.path.join('Leaves', (str(i) + '.jpg'))\n",
        "    shutil.copy(paths, 'leaves_data/peach')\n",
        "\n",
        "for i in range(1001,1051):\n",
        "    paths = os.path.join('Leaves', (str(i) + '.jpg'))\n",
        "    shutil.copy(paths, 'leaves_data/pubescent bamboo')\n",
        "\n",
        "for i in range(3390,3440):\n",
        "    paths = os.path.join('Leaves', (str(i) + '.jpg'))\n",
        "    shutil.copy(paths, 'leaves_data/southern magnolia')\n",
        "\n",
        "for i in range(2291,2341):\n",
        "    paths = os.path.join('Leaves', (str(i) + '.jpg'))\n",
        "    shutil.copy(paths, 'leaves_data/sweet osmanthus')\n",
        "\n",
        "for i in range(3566,3616):\n",
        "    paths = os.path.join('Leaves', (str(i) + '.jpg'))\n",
        "    shutil.copy(paths, 'leaves_data/tangerine')\n",
        "\n",
        "for i in range(3282,3332):\n",
        "    paths = os.path.join('Leaves', (str(i) + '.jpg'))\n",
        "    shutil.copy(paths, 'leaves_data/trident maple')\n",
        "\n",
        "for i in range(1195,1245):\n",
        "    paths = os.path.join('Leaves', (str(i) + '.jpg'))\n",
        "    shutil.copy(paths, 'leaves_data/true indigo')\n",
        "\n",
        "for i in range(2114,2164):\n",
        "    paths = os.path.join('Leaves', (str(i) + '.jpg'))\n",
        "    shutil.copy(paths, 'leaves_data/wintersweet')\n",
        "\n",
        "for i in range(2616,2666):\n",
        "    paths = os.path.join('Leaves', (str(i) + '.jpg'))\n",
        "    shutil.copy(paths, 'leaves_data/yew plum pine')"
      ],
      "execution_count": 5,
      "outputs": []
    },
    {
      "cell_type": "code",
      "metadata": {
        "id": "8wwQIl-anjNw",
        "outputId": "588ed2c6-bafb-4c1e-f0bc-2239a3836510",
        "colab": {
          "base_uri": "https://localhost:8080/"
        }
      },
      "source": [
        "!pip install split-folders"
      ],
      "execution_count": 6,
      "outputs": [
        {
          "output_type": "stream",
          "name": "stdout",
          "text": [
            "Collecting split-folders\n",
            "  Downloading split_folders-0.4.3-py3-none-any.whl (7.4 kB)\n",
            "Installing collected packages: split-folders\n",
            "Successfully installed split-folders-0.4.3\n"
          ]
        }
      ]
    },
    {
      "cell_type": "code",
      "metadata": {
        "id": "FDq54lAdnkoP"
      },
      "source": [
        "mkdir 'leaves_data_base'"
      ],
      "execution_count": 7,
      "outputs": []
    },
    {
      "cell_type": "code",
      "metadata": {
        "id": "NYhOKqjrnmZh",
        "outputId": "aa53ffd0-9cf5-4222-f0ad-e47082d85c21",
        "colab": {
          "base_uri": "https://localhost:8080/"
        }
      },
      "source": [
        "import splitfolders  # or import split_folders\n",
        "\n",
        "# Split with a ratio.\n",
        "# To only split into training and validation set, set a tuple to `ratio`, i.e, `(.8, .2)`.\n",
        "splitfolders.ratio(\"leaves_data\", output=\"leaves_data_base\", seed=1337, ratio=(.7, .3), group_prefix=None) # default values"
      ],
      "execution_count": 8,
      "outputs": [
        {
          "output_type": "stream",
          "name": "stderr",
          "text": [
            "Copying files: 1599 files [00:03, 489.22 files/s]\n"
          ]
        }
      ]
    },
    {
      "cell_type": "code",
      "metadata": {
        "id": "qTUcSDf2CeBY"
      },
      "source": [
        "# Definisikan path untuk data train dan data validation\n",
        "\n",
        "base_dir = 'leaves_data_base'\n",
        "\n",
        "train_dir = os.path.join(base_dir, 'train')\n",
        "validation_dir = os.path.join(base_dir, 'val')"
      ],
      "execution_count": 9,
      "outputs": []
    },
    {
      "cell_type": "markdown",
      "metadata": {
        "id": "ZRI9ZP2UCvGD"
      },
      "source": [
        "<h3>Data Preprocessing</h3>"
      ]
    },
    {
      "cell_type": "code",
      "metadata": {
        "id": "J8ZaKbMkoe1a"
      },
      "source": [
        "import cv2\n",
        "import numpy as np\n",
        "\n",
        "# Gather data train\n",
        "train_data = []\n",
        "train_label = []\n",
        "for r, d, f in os.walk(train_dir):\n",
        "    for file in f:\n",
        "        if \".jpg\" in file:\n",
        "            imagePath = os.path.join(r, file)\n",
        "            image = cv2.imread(imagePath)\n",
        "            image = cv2.resize(image, (250,250))\n",
        "            train_data.append(image)\n",
        "            label = imagePath.split(os.path.sep)[-2]\n",
        "            train_label.append(label)\n",
        "\n",
        "train_data = np.array(train_data)\n",
        "train_label = np.array(train_label)"
      ],
      "execution_count": 11,
      "outputs": []
    },
    {
      "cell_type": "code",
      "metadata": {
        "id": "5j9HtyRIog3-"
      },
      "source": [
        "val_data = []\n",
        "val_label = []\n",
        "for r, d, f in os.walk(validation_dir):\n",
        "    for file in f:\n",
        "        if \".jpg\" in file:\n",
        "            imagePath = os.path.join(r, file)\n",
        "            image = cv2.imread(imagePath)\n",
        "            image = cv2.resize(image, (250,250))\n",
        "            val_data.append(image)\n",
        "            label = imagePath.split(os.path.sep)[-2]\n",
        "            val_label.append(label)\n",
        "\n",
        "val_data = np.array(val_data)\n",
        "val_label = np.array(val_label)"
      ],
      "execution_count": 12,
      "outputs": []
    },
    {
      "cell_type": "code",
      "metadata": {
        "colab": {
          "base_uri": "https://localhost:8080/"
        },
        "id": "dAsPl9g3Chr2",
        "outputId": "36d474b4-0e3e-401f-b3c6-6324edf6c487"
      },
      "source": [
        "# Tampilkan shape dari data train dan data validation\n",
        "print(\"Train Data = \", train_data.shape)\n",
        "print(\"Train Label = \", train_label.shape)\n",
        "print(\"Val Data = \", val_data.shape)\n",
        "print(\"Val Label = \", val_label.shape)"
      ],
      "execution_count": 13,
      "outputs": [
        {
          "output_type": "stream",
          "name": "stdout",
          "text": [
            "Train Data =  (1119, 250, 250, 3)\n",
            "Train Label =  (1119,)\n",
            "Val Data =  (480, 250, 250, 3)\n",
            "Val Label =  (480,)\n"
          ]
        }
      ]
    },
    {
      "cell_type": "code",
      "metadata": {
        "colab": {
          "base_uri": "https://localhost:8080/"
        },
        "id": "xxbZge_GCxtE",
        "outputId": "a4b412f4-08b8-47ec-858a-32051570535a"
      },
      "source": [
        "# Normalisasi dataset\n",
        "print(\"Data sebelum di-normalisasi \", train_data[44][44][44])\n",
        "\n",
        "x_train = train_data.astype('float32') / 255.0\n",
        "x_val = val_data.astype('float32') / 255.0\n",
        "print(\"Data setelah di-normalisasi \", x_train[44][44][44])"
      ],
      "execution_count": 16,
      "outputs": [
        {
          "output_type": "stream",
          "name": "stdout",
          "text": [
            "Data sebelum di-normalisasi  [255 255 255]\n",
            "Data setelah di-normalisasi  [1. 1. 1.]\n"
          ]
        }
      ]
    },
    {
      "cell_type": "code",
      "metadata": {
        "colab": {
          "base_uri": "https://localhost:8080/"
        },
        "id": "TVP7wbecC1AO",
        "outputId": "79796fd9-d214-408d-8cba-f71640317689"
      },
      "source": [
        "# Transformasi label encoder\n",
        "from sklearn.preprocessing import LabelEncoder\n",
        "\n",
        "print(\"Label sebelum di-encoder \", train_label[1:10])\n",
        "\n",
        "lb = LabelEncoder()\n",
        "y_train = lb.fit_transform(train_label)\n",
        "y_val = lb.fit_transform(val_label)\n",
        "\n",
        "print(\"Label setelah di-encoder \", y_train[1:10])"
      ],
      "execution_count": 17,
      "outputs": [
        {
          "output_type": "stream",
          "name": "stdout",
          "text": [
            "Label sebelum di-encoder  ['Glossy Privet' 'Glossy Privet' 'Glossy Privet' 'Glossy Privet'\n",
            " 'Glossy Privet' 'Glossy Privet' 'Glossy Privet' 'Glossy Privet'\n",
            " 'Glossy Privet']\n",
            "Label setelah di-encoder  [11 11 11 11 11 11 11 11 11]\n"
          ]
        }
      ]
    },
    {
      "cell_type": "markdown",
      "metadata": {
        "id": "YLD6FXIKC35_"
      },
      "source": [
        "<h3>Definisikan Model</h3>"
      ]
    },
    {
      "cell_type": "code",
      "metadata": {
        "id": "-IpFwrdNC5Sx"
      },
      "source": [
        "from tensorflow.keras import layers\n",
        "from tensorflow.keras import Model"
      ],
      "execution_count": 18,
      "outputs": []
    },
    {
      "cell_type": "code",
      "metadata": {
        "id": "ukf5Oh1cC7QH"
      },
      "source": [
        "# Buat model dengan 1 input layer, 1 hidden layer, dan 1 output layer\n",
        "img_input = layers.Input(shape=(250, 250, 3)) # layer input\n",
        "x = layers.Flatten()(img_input) # ubah dari matriks 150x150x3 menjadi vektor\n",
        "x = layers.Dense(256, activation='relu')(x) # hidden layer 1 dengan 128 neuron\n",
        "x = layers.Dense(128, activation='relu')(x) # hidden layer 1 dengan 128 neuron\n",
        "output = layers.Dense(32, activation='softmax')(x) # output layer dengan 1 neuron (binary)\n",
        "\n",
        "# Definisikan modelnya\n",
        "model = Model(img_input, output)"
      ],
      "execution_count": 19,
      "outputs": []
    },
    {
      "cell_type": "code",
      "metadata": {
        "colab": {
          "base_uri": "https://localhost:8080/"
        },
        "id": "hWPPCl28C8iJ",
        "outputId": "e9ba9647-73db-4375-d8aa-6669daec9e8d"
      },
      "source": [
        "# Tampilkan model summary\n",
        "model.summary()"
      ],
      "execution_count": 20,
      "outputs": [
        {
          "output_type": "stream",
          "name": "stdout",
          "text": [
            "Model: \"model\"\n",
            "_________________________________________________________________\n",
            "Layer (type)                 Output Shape              Param #   \n",
            "=================================================================\n",
            "input_1 (InputLayer)         [(None, 250, 250, 3)]     0         \n",
            "_________________________________________________________________\n",
            "flatten (Flatten)            (None, 187500)            0         \n",
            "_________________________________________________________________\n",
            "dense (Dense)                (None, 256)               48000256  \n",
            "_________________________________________________________________\n",
            "dense_1 (Dense)              (None, 128)               32896     \n",
            "_________________________________________________________________\n",
            "dense_2 (Dense)              (None, 32)                4128      \n",
            "=================================================================\n",
            "Total params: 48,037,280\n",
            "Trainable params: 48,037,280\n",
            "Non-trainable params: 0\n",
            "_________________________________________________________________\n"
          ]
        }
      ]
    },
    {
      "cell_type": "code",
      "metadata": {
        "id": "TD_IAMQnC_ih"
      },
      "source": [
        "from tensorflow.keras.optimizers import Adam\n",
        "\n",
        "# Compile model\n",
        "model.compile(loss='sparse_categorical_crossentropy',\n",
        "              optimizer=Adam(learning_rate=0.001),\n",
        "              metrics=['acc'])"
      ],
      "execution_count": 21,
      "outputs": []
    },
    {
      "cell_type": "code",
      "metadata": {
        "id": "vdeSadhwpme6"
      },
      "source": [
        "import tensorflow as tf\n",
        "\n",
        "ACCURACY_THRESHOLD = 0.80\n",
        "\n",
        "class myCallback(tf.keras.callbacks.Callback): \n",
        "    def on_epoch_end(self, epoch, logs={}): \n",
        "        if(logs.get('acc') > ACCURACY_THRESHOLD and logs.get('val_acc') > ACCURACY_THRESHOLD and logs.get('val_acc') > ACCURACY_THRESHOLD):   \n",
        "          print(\"\\nReached %2.2f%% accuracy, so stopping training!!\" %(ACCURACY_THRESHOLD*100))   \n",
        "          self.model.stop_training = True\n",
        "\n",
        "callbacks = myCallback()"
      ],
      "execution_count": 23,
      "outputs": []
    },
    {
      "cell_type": "code",
      "metadata": {
        "colab": {
          "base_uri": "https://localhost:8080/"
        },
        "id": "_BTSpUVlDAH0",
        "outputId": "f6fe6cdf-adef-411c-b7c7-1f43465dd4c3"
      },
      "source": [
        "H = model.fit(x_train, y_train, batch_size=32, callbacks=[callbacks], epochs=100, validation_data=(x_val, y_val))"
      ],
      "execution_count": 27,
      "outputs": [
        {
          "output_type": "stream",
          "name": "stdout",
          "text": [
            "Epoch 1/100\n",
            "35/35 [==============================] - 11s 300ms/step - loss: 3.1189 - acc: 0.3351 - val_loss: 2.2856 - val_acc: 0.3938\n",
            "Epoch 2/100\n",
            "35/35 [==============================] - 10s 297ms/step - loss: 2.3539 - acc: 0.4209 - val_loss: 2.9883 - val_acc: 0.3354\n",
            "Epoch 3/100\n",
            "35/35 [==============================] - 10s 297ms/step - loss: 2.3908 - acc: 0.4120 - val_loss: 2.8469 - val_acc: 0.3771\n",
            "Epoch 4/100\n",
            "35/35 [==============================] - 10s 298ms/step - loss: 2.1226 - acc: 0.4727 - val_loss: 1.6955 - val_acc: 0.5396\n",
            "Epoch 5/100\n",
            "35/35 [==============================] - 10s 296ms/step - loss: 1.9645 - acc: 0.5013 - val_loss: 1.9672 - val_acc: 0.4625\n",
            "Epoch 6/100\n",
            "35/35 [==============================] - 10s 295ms/step - loss: 2.4220 - acc: 0.4477 - val_loss: 2.9281 - val_acc: 0.3604\n",
            "Epoch 7/100\n",
            "35/35 [==============================] - 10s 296ms/step - loss: 1.9371 - acc: 0.5210 - val_loss: 1.8366 - val_acc: 0.5042\n",
            "Epoch 8/100\n",
            "35/35 [==============================] - 10s 294ms/step - loss: 1.7519 - acc: 0.5255 - val_loss: 1.7270 - val_acc: 0.4917\n",
            "Epoch 9/100\n",
            "35/35 [==============================] - 10s 294ms/step - loss: 1.5356 - acc: 0.5836 - val_loss: 1.7701 - val_acc: 0.5396\n",
            "Epoch 10/100\n",
            "35/35 [==============================] - 10s 298ms/step - loss: 1.9676 - acc: 0.5147 - val_loss: 4.1460 - val_acc: 0.3146\n",
            "Epoch 11/100\n",
            "35/35 [==============================] - 10s 297ms/step - loss: 2.5362 - acc: 0.4647 - val_loss: 2.7586 - val_acc: 0.4062\n",
            "Epoch 12/100\n",
            "35/35 [==============================] - 10s 295ms/step - loss: 1.5069 - acc: 0.6130 - val_loss: 1.7193 - val_acc: 0.5479\n",
            "Epoch 13/100\n",
            "35/35 [==============================] - 10s 296ms/step - loss: 1.3567 - acc: 0.6336 - val_loss: 1.7125 - val_acc: 0.5688\n",
            "Epoch 14/100\n",
            "35/35 [==============================] - 10s 295ms/step - loss: 0.8569 - acc: 0.7355 - val_loss: 1.4275 - val_acc: 0.6333\n",
            "Epoch 15/100\n",
            "35/35 [==============================] - 10s 295ms/step - loss: 1.0391 - acc: 0.7042 - val_loss: 1.7745 - val_acc: 0.5688\n",
            "Epoch 16/100\n",
            "35/35 [==============================] - 10s 298ms/step - loss: 1.0587 - acc: 0.6810 - val_loss: 1.7044 - val_acc: 0.5792\n",
            "Epoch 17/100\n",
            "35/35 [==============================] - 10s 294ms/step - loss: 1.0007 - acc: 0.6997 - val_loss: 1.4812 - val_acc: 0.5813\n",
            "Epoch 18/100\n",
            "35/35 [==============================] - 10s 296ms/step - loss: 0.8856 - acc: 0.7328 - val_loss: 1.0941 - val_acc: 0.7063\n",
            "Epoch 19/100\n",
            "35/35 [==============================] - 10s 293ms/step - loss: 0.7332 - acc: 0.7873 - val_loss: 1.4053 - val_acc: 0.6521\n",
            "Epoch 20/100\n",
            "35/35 [==============================] - 10s 295ms/step - loss: 1.4090 - acc: 0.6345 - val_loss: 1.7459 - val_acc: 0.5583\n",
            "Epoch 21/100\n",
            "35/35 [==============================] - 10s 293ms/step - loss: 1.1995 - acc: 0.6640 - val_loss: 1.4077 - val_acc: 0.6458\n",
            "Epoch 22/100\n",
            "35/35 [==============================] - 10s 295ms/step - loss: 1.2836 - acc: 0.6702 - val_loss: 2.1305 - val_acc: 0.5375\n",
            "Epoch 23/100\n",
            "35/35 [==============================] - 10s 298ms/step - loss: 0.7055 - acc: 0.7614 - val_loss: 1.0350 - val_acc: 0.7125\n",
            "Epoch 24/100\n",
            "35/35 [==============================] - 10s 296ms/step - loss: 0.5825 - acc: 0.8150 - val_loss: 1.2469 - val_acc: 0.6604\n",
            "Epoch 25/100\n",
            "35/35 [==============================] - 10s 294ms/step - loss: 0.4992 - acc: 0.8293 - val_loss: 0.9434 - val_acc: 0.7208\n",
            "Epoch 26/100\n",
            "35/35 [==============================] - 10s 293ms/step - loss: 0.4518 - acc: 0.8472 - val_loss: 0.8499 - val_acc: 0.7479\n",
            "Epoch 27/100\n",
            "35/35 [==============================] - 10s 294ms/step - loss: 0.6825 - acc: 0.7998 - val_loss: 1.3595 - val_acc: 0.6625\n",
            "Epoch 28/100\n",
            "35/35 [==============================] - 10s 295ms/step - loss: 0.7786 - acc: 0.7659 - val_loss: 2.1486 - val_acc: 0.5042\n",
            "Epoch 29/100\n",
            "35/35 [==============================] - 10s 296ms/step - loss: 1.6592 - acc: 0.6282 - val_loss: 1.6349 - val_acc: 0.6250\n",
            "Epoch 30/100\n",
            "35/35 [==============================] - 10s 299ms/step - loss: 1.0944 - acc: 0.6935 - val_loss: 1.9541 - val_acc: 0.5583\n",
            "Epoch 31/100\n",
            "35/35 [==============================] - 10s 294ms/step - loss: 0.9513 - acc: 0.7319 - val_loss: 1.6203 - val_acc: 0.6187\n",
            "Epoch 32/100\n",
            "35/35 [==============================] - 10s 295ms/step - loss: 0.7192 - acc: 0.7873 - val_loss: 1.6551 - val_acc: 0.6604\n",
            "Epoch 33/100\n",
            "35/35 [==============================] - 10s 296ms/step - loss: 0.4110 - acc: 0.8677 - val_loss: 1.0872 - val_acc: 0.7146\n",
            "Epoch 34/100\n",
            "35/35 [==============================] - 10s 295ms/step - loss: 0.3894 - acc: 0.8660 - val_loss: 1.7303 - val_acc: 0.6646\n",
            "Epoch 35/100\n",
            "35/35 [==============================] - 10s 295ms/step - loss: 0.4016 - acc: 0.8517 - val_loss: 1.3384 - val_acc: 0.6542\n",
            "Epoch 36/100\n",
            "35/35 [==============================] - 10s 296ms/step - loss: 0.4449 - acc: 0.8561 - val_loss: 1.1501 - val_acc: 0.7104\n",
            "Epoch 37/100\n",
            "35/35 [==============================] - 10s 295ms/step - loss: 0.4731 - acc: 0.8633 - val_loss: 0.8780 - val_acc: 0.7708\n",
            "Epoch 38/100\n",
            "35/35 [==============================] - 10s 298ms/step - loss: 0.2828 - acc: 0.8954 - val_loss: 1.1208 - val_acc: 0.7250\n",
            "Epoch 39/100\n",
            "35/35 [==============================] - 10s 298ms/step - loss: 0.3529 - acc: 0.8838 - val_loss: 0.8384 - val_acc: 0.7521\n",
            "Epoch 40/100\n",
            "35/35 [==============================] - 10s 297ms/step - loss: 0.3525 - acc: 0.8820 - val_loss: 1.1678 - val_acc: 0.7500\n",
            "Epoch 41/100\n",
            "35/35 [==============================] - 10s 296ms/step - loss: 0.5448 - acc: 0.8329 - val_loss: 1.1639 - val_acc: 0.7417\n",
            "Epoch 42/100\n",
            "35/35 [==============================] - 10s 296ms/step - loss: 0.3425 - acc: 0.8785 - val_loss: 1.4242 - val_acc: 0.7312\n",
            "Epoch 43/100\n",
            "35/35 [==============================] - 10s 297ms/step - loss: 0.3649 - acc: 0.8829 - val_loss: 1.0633 - val_acc: 0.7354\n",
            "Epoch 44/100\n",
            "35/35 [==============================] - 10s 297ms/step - loss: 0.3246 - acc: 0.8972 - val_loss: 0.7343 - val_acc: 0.8104\n",
            "\n",
            "Reached 80.00% accuracy, so stopping training!!\n"
          ]
        }
      ]
    },
    {
      "cell_type": "markdown",
      "metadata": {
        "id": "FEWlFuCbDFEV"
      },
      "source": [
        "<h3>Evaluasi Model</h3>"
      ]
    },
    {
      "cell_type": "code",
      "metadata": {
        "colab": {
          "base_uri": "https://localhost:8080/",
          "height": 299
        },
        "id": "fLJK8najDB8a",
        "outputId": "543018e4-f693-49fa-8415-a7e998583bb3"
      },
      "source": [
        "import matplotlib.pyplot as plt\n",
        "plt.style.use(\"ggplot\")\n",
        "plt.figure()\n",
        "plt.plot(np.arange(0, 44), H.history[\"loss\"], label=\"train_loss\")\n",
        "plt.plot(np.arange(0, 44), H.history[\"val_loss\"], label=\"val_loss\")\n",
        "plt.title(\"Loss Plot\")\n",
        "plt.xlabel(\"Epoch #\")\n",
        "plt.ylabel(\"Loss\")\n",
        "plt.legend()\n",
        "plt.show()"
      ],
      "execution_count": 30,
      "outputs": [
        {
          "output_type": "display_data",
          "data": {
            "image/png": "[encoded data removed]",
            "text/plain": [
              "<Figure size 432x288 with 1 Axes>"
            ]
          },
          "metadata": {}
        }
      ]
    },
    {
      "cell_type": "code",
      "metadata": {
        "colab": {
          "base_uri": "https://localhost:8080/",
          "height": 299
        },
        "id": "30FcTwEWDHTO",
        "outputId": "433cb534-69c5-409d-a33f-c60c4664840c"
      },
      "source": [
        "plt.style.use(\"ggplot\")\n",
        "plt.figure()\n",
        "plt.plot(np.arange(0, 44), H.history[\"acc\"], label=\"train_acc\")\n",
        "plt.plot(np.arange(0, 44), H.history[\"val_acc\"], label=\"val_acc\")\n",
        "plt.title(\"Accuracy Plot\")\n",
        "plt.xlabel(\"Epoch #\")\n",
        "plt.ylabel(\"Acc\")\n",
        "plt.legend()\n",
        "plt.show()"
      ],
      "execution_count": 31,
      "outputs": [
        {
          "output_type": "display_data",
          "data": {
            "image/png": "[encoded data removed]",
            "text/plain": [
              "<Figure size 432x288 with 1 Axes>"
            ]
          },
          "metadata": {}
        }
      ]
    },
    {
      "cell_type": "code",
      "metadata": {
        "id": "H6IBLniwsW5i"
      },
      "source": [
        ""
      ],
      "execution_count": null,
      "outputs": []
    }
  ]
}