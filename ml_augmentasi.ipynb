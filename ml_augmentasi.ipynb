{
  "nbformat": 4,
  "nbformat_minor": 0,
  "metadata": {
    "colab": {
      "name": "ml_augmentasi.ipynb",
      "provenance": [],
      "authorship_tag": "ABX9TyMI7MbGt/pCrFjJfG9bYca5",
      "include_colab_link": true
    },
    "kernelspec": {
      "name": "python3",
      "display_name": "Python 3"
    },
    "language_info": {
      "name": "python"
    }
  },
  "cells": [
    {
      "cell_type": "markdown",
      "metadata": {
        "id": "view-in-github",
        "colab_type": "text"
      },
      "source": [
        "<a href=\"https://colab.research.google.com/github/daffashafwan/finalprojectml/blob/master/ml_augmentasi.ipynb\" target=\"_parent\"><img src=\"https://colab.research.google.com/assets/colab-badge.svg\" alt=\"Open In Colab\"/></a>"
      ]
    },
    {
      "cell_type": "code",
      "metadata": {
        "colab": {
          "base_uri": "https://localhost:8080/"
        },
        "id": "UYz9F4fLYu3i",
        "outputId": "a18f78ff-bbc9-4f4e-fb1c-30ee7341f0b3"
      },
      "source": [
        "!wget -O download.tar.bz2 https://sourceforge.net/projects/flavia/files/Leaf%20Image%20Dataset/1.0/Leaves.tar.bz2/download"
      ],
      "execution_count": 1,
      "outputs": [
        {
          "output_type": "stream",
          "name": "stdout",
          "text": [
            "--2021-11-08 16:33:39--  https://sourceforge.net/projects/flavia/files/Leaf%20Image%20Dataset/1.0/Leaves.tar.bz2/download\n",
            "Resolving sourceforge.net (sourceforge.net)... 204.68.111.105\n",
            "Connecting to sourceforge.net (sourceforge.net)|204.68.111.105|:443... connected.\n",
            "HTTP request sent, awaiting response... 302 Found\n",
            "Location: https://downloads.sourceforge.net/project/flavia/Leaf%20Image%20Dataset/1.0/Leaves.tar.bz2?ts=gAAAAABhiVFj_e6bE28EOAckpdhUQodBVxt7feO02zRlAAx5w-vZ6tL81ZHwa2vpa0B5F_ymFEHzKxOhmn4ECKVw38KJaURAHQ%3D%3D&use_mirror=iweb&r= [following]\n",
            "--2021-11-08 16:33:39--  https://downloads.sourceforge.net/project/flavia/Leaf%20Image%20Dataset/1.0/Leaves.tar.bz2?ts=gAAAAABhiVFj_e6bE28EOAckpdhUQodBVxt7feO02zRlAAx5w-vZ6tL81ZHwa2vpa0B5F_ymFEHzKxOhmn4ECKVw38KJaURAHQ%3D%3D&use_mirror=iweb&r=\n",
            "Resolving downloads.sourceforge.net (downloads.sourceforge.net)... 204.68.111.105\n",
            "Connecting to downloads.sourceforge.net (downloads.sourceforge.net)|204.68.111.105|:443... connected.\n",
            "HTTP request sent, awaiting response... 302 Found\n",
            "Location: https://iweb.dl.sourceforge.net/project/flavia/Leaf%20Image%20Dataset/1.0/Leaves.tar.bz2 [following]\n",
            "--2021-11-08 16:33:39--  https://iweb.dl.sourceforge.net/project/flavia/Leaf%20Image%20Dataset/1.0/Leaves.tar.bz2\n",
            "Resolving iweb.dl.sourceforge.net (iweb.dl.sourceforge.net)... 192.175.120.182, 2607:f748:10:12::5f:2\n",
            "Connecting to iweb.dl.sourceforge.net (iweb.dl.sourceforge.net)|192.175.120.182|:443... connected.\n",
            "HTTP request sent, awaiting response... 200 OK\n",
            "Length: 965715159 (921M) [application/octet-stream]\n",
            "Saving to: ‘download.tar.bz2’\n",
            "\n",
            "download.tar.bz2    100%[===================>] 920.98M  13.9MB/s    in 59s     \n",
            "\n",
            "2021-11-08 16:34:39 (15.7 MB/s) - ‘download.tar.bz2’ saved [965715159/965715159]\n",
            "\n"
          ]
        }
      ]
    },
    {
      "cell_type": "code",
      "metadata": {
        "id": "iFYSN_qaZeol"
      },
      "source": [
        "#mengekstrak dataset\n",
        "!tar -xf download.tar.bz2"
      ],
      "execution_count": 2,
      "outputs": []
    },
    {
      "cell_type": "code",
      "metadata": {
        "id": "Ayt6X9KkZugr"
      },
      "source": [
        "!mkdir leaves_data"
      ],
      "execution_count": 3,
      "outputs": []
    },
    {
      "cell_type": "code",
      "metadata": {
        "id": "g5w2Jc9Caifv"
      },
      "source": [
        "!mkdir 'leaves_data/pubescent bamboo' 'leaves_data/Chinese horse chestnut' 'leaves_data/Anhui Barberry' 'leaves_data/Chinese redbud' 'leaves_data/true indigo' 'leaves_data/Japanese maple' 'leaves_data/Nanmu' 'leaves_data/castor aralia' 'leaves_data/Chinese cinnamon' 'leaves_data/goldenrain tree' 'leaves_data/Big-fruited Holly' 'leaves_data/Japanese cheesewood' 'leaves_data/wintersweet' 'leaves_data/camphortree' 'leaves_data/Japan Arrowwood' 'leaves_data/sweet osmanthus' 'leaves_data/deodar' 'leaves_data/ginkgo, maidenhair tree' 'leaves_data/Crape myrtle, Crepe myrtle' 'leaves_data/oleander' 'leaves_data/yew plum pine' 'leaves_data/Japanese Flowering Cherry' 'leaves_data/Glossy Privet' 'leaves_data/Chinese Toon' 'leaves_data/peach' 'leaves_data/Ford Woodlotus' 'leaves_data/trident maple' 'leaves_data/Beales barberry' 'leaves_data/southern magnolia' 'leaves_data/Canadian poplar' 'leaves_data/Chinese tulip tree' 'leaves_data/tangerine'"
      ],
      "execution_count": 4,
      "outputs": []
    },
    {
      "cell_type": "code",
      "metadata": {
        "id": "1nj2tDNxajRG"
      },
      "source": [
        "import shutil\n",
        "import os\n",
        "\n",
        "for i in range(1552,1602):\n",
        "  paths = os.path.join('Leaves', (str(i) + '.jpg'))\n",
        "  shutil.copy(paths, 'leaves_data/Anhui Barberry')\n",
        "\n",
        "for i in range(3335,3385):\n",
        "  paths = os.path.join('Leaves', (str(i) + '.jpg'))\n",
        "  shutil.copy(paths, 'leaves_data/Beales barberry')\n",
        "\n",
        "for i in range(2001,2050):\n",
        "    paths = os.path.join('Leaves', (str(i) + '.jpg'))\n",
        "    shutil.copy(paths, 'leaves_data/Big-fruited Holly')\n",
        "\n",
        "for i in range(3447,3497):\n",
        "    paths = os.path.join('Leaves', (str(i) + '.jpg'))\n",
        "    shutil.copy(paths, 'leaves_data/Canadian poplar')\n",
        "\n",
        "for i in range(3111,3161):\n",
        "    paths = os.path.join('Leaves', (str(i) + '.jpg'))\n",
        "    shutil.copy(paths, 'leaves_data/Chinese Toon')\n",
        "\n",
        "for i in range(1497,1547):\n",
        "    paths = os.path.join('Leaves', (str(i) + '.jpg'))\n",
        "    shutil.copy(paths, 'leaves_data/Chinese cinnamon')\n",
        "\n",
        "for i in range(1060,1110):\n",
        "    paths = os.path.join('Leaves', (str(i) + '.jpg'))\n",
        "    shutil.copy(paths, 'leaves_data/Chinese horse chestnut')\n",
        "\n",
        "for i in range(1123,1173):\n",
        "    paths = os.path.join('Leaves', (str(i) + '.jpg'))\n",
        "    shutil.copy(paths, 'leaves_data/Chinese redbud')\n",
        "\n",
        "for i in range(3511,3561):\n",
        "    paths = os.path.join('Leaves', (str(i) + '.jpg'))\n",
        "    shutil.copy(paths, 'leaves_data/Chinese tulip tree')\n",
        "\n",
        "for i in range(2486,2536):\n",
        "    paths = os.path.join('Leaves', (str(i) + '.jpg'))\n",
        "    shutil.copy(paths, 'leaves_data/Crape myrtle, Crepe myrtle')\n",
        "\n",
        "for i in range(3230,3280):\n",
        "    paths = os.path.join('Leaves', (str(i) + '.jpg'))\n",
        "    shutil.copy(paths, 'leaves_data/Ford Woodlotus')\n",
        "\n",
        "for i in range(3056,3106):\n",
        "    paths = os.path.join('Leaves', (str(i) + '.jpg'))\n",
        "    shutil.copy(paths, 'leaves_data/Glossy Privet')\n",
        "\n",
        "for i in range(2231,2281):\n",
        "    paths = os.path.join('Leaves', (str(i) + '.jpg'))\n",
        "    shutil.copy(paths, 'leaves_data/Japan Arrowwood')\n",
        "\n",
        "for i in range(3001,3051):\n",
        "    paths = os.path.join('Leaves', (str(i) + '.jpg'))\n",
        "    shutil.copy(paths, 'leaves_data/Japanese Flowering Cherry')\n",
        "\n",
        "for i in range(2051,2101):\n",
        "    paths = os.path.join('Leaves', (str(i) + '.jpg'))\n",
        "    shutil.copy(paths, 'leaves_data/Japanese cheesewood')\n",
        "\n",
        "for i in range(1268,1318):\n",
        "    paths = os.path.join('Leaves', (str(i) + '.jpg'))\n",
        "    shutil.copy(paths, 'leaves_data/Japanese maple')\n",
        "\n",
        "for i in range(1324,1374):\n",
        "    paths = os.path.join('Leaves', (str(i) + '.jpg'))\n",
        "    shutil.copy(paths, 'leaves_data/Nanmu')\n",
        "\n",
        "for i in range(2166,2216):\n",
        "    paths = os.path.join('Leaves', (str(i) + '.jpg'))\n",
        "    shutil.copy(paths, 'leaves_data/camphortree')\n",
        "\n",
        "for i in range(1386,1436):\n",
        "    paths = os.path.join('Leaves', (str(i) + '.jpg'))\n",
        "    shutil.copy(paths, 'leaves_data/castor aralia')\n",
        "\n",
        "for i in range(2347,2397):\n",
        "    paths = os.path.join('Leaves', (str(i) + '.jpg'))\n",
        "    shutil.copy(paths, 'leaves_data/deodar')\n",
        "\n",
        "for i in range(2424,2474):\n",
        "    paths = os.path.join('Leaves', (str(i) + '.jpg'))\n",
        "    shutil.copy(paths, 'leaves_data/ginkgo, maidenhair tree')\n",
        "\n",
        "for i in range(1438,1488):\n",
        "    paths = os.path.join('Leaves', (str(i) + '.jpg'))\n",
        "    shutil.copy(paths, 'leaves_data/goldenrain tree')\n",
        "\n",
        "for i in range(2547,2597):\n",
        "    paths = os.path.join('Leaves', (str(i) + '.jpg'))\n",
        "    shutil.copy(paths, 'leaves_data/oleander')\n",
        "\n",
        "for i in range(3176,3226):\n",
        "    paths = os.path.join('Leaves', (str(i) + '.jpg'))\n",
        "    shutil.copy(paths, 'leaves_data/peach')\n",
        "\n",
        "for i in range(1001,1051):\n",
        "    paths = os.path.join('Leaves', (str(i) + '.jpg'))\n",
        "    shutil.copy(paths, 'leaves_data/pubescent bamboo')\n",
        "\n",
        "for i in range(3390,3440):\n",
        "    paths = os.path.join('Leaves', (str(i) + '.jpg'))\n",
        "    shutil.copy(paths, 'leaves_data/southern magnolia')\n",
        "\n",
        "for i in range(2291,2341):\n",
        "    paths = os.path.join('Leaves', (str(i) + '.jpg'))\n",
        "    shutil.copy(paths, 'leaves_data/sweet osmanthus')\n",
        "\n",
        "for i in range(3566,3616):\n",
        "    paths = os.path.join('Leaves', (str(i) + '.jpg'))\n",
        "    shutil.copy(paths, 'leaves_data/tangerine')\n",
        "\n",
        "for i in range(3282,3332):\n",
        "    paths = os.path.join('Leaves', (str(i) + '.jpg'))\n",
        "    shutil.copy(paths, 'leaves_data/trident maple')\n",
        "\n",
        "for i in range(1195,1245):\n",
        "    paths = os.path.join('Leaves', (str(i) + '.jpg'))\n",
        "    shutil.copy(paths, 'leaves_data/true indigo')\n",
        "\n",
        "for i in range(2114,2164):\n",
        "    paths = os.path.join('Leaves', (str(i) + '.jpg'))\n",
        "    shutil.copy(paths, 'leaves_data/wintersweet')\n",
        "\n",
        "for i in range(2616,2666):\n",
        "    paths = os.path.join('Leaves', (str(i) + '.jpg'))\n",
        "    shutil.copy(paths, 'leaves_data/yew plum pine')"
      ],
      "execution_count": 5,
      "outputs": []
    },
    {
      "cell_type": "code",
      "metadata": {
        "colab": {
          "base_uri": "https://localhost:8080/"
        },
        "id": "afWnAVeAalP8",
        "outputId": "ca361aa3-af72-4fdd-a404-66de72cc2010"
      },
      "source": [
        "!pip install split-folders"
      ],
      "execution_count": 6,
      "outputs": [
        {
          "output_type": "stream",
          "name": "stdout",
          "text": [
            "Collecting split-folders\n",
            "  Downloading split_folders-0.4.3-py3-none-any.whl (7.4 kB)\n",
            "Installing collected packages: split-folders\n",
            "Successfully installed split-folders-0.4.3\n"
          ]
        }
      ]
    },
    {
      "cell_type": "code",
      "metadata": {
        "id": "-UgIQiiIaoKe"
      },
      "source": [
        "!mkdir 'leaves_data_base'"
      ],
      "execution_count": 7,
      "outputs": []
    },
    {
      "cell_type": "code",
      "metadata": {
        "colab": {
          "base_uri": "https://localhost:8080/"
        },
        "id": "LcoHIoy2aqd8",
        "outputId": "e704b02a-0366-4658-9fa2-6b009560679d"
      },
      "source": [
        "import splitfolders  # or import split_folders\n",
        "\n",
        "# Split with a ratio.\n",
        "# To only split into training and validation set, set a tuple to `ratio`, i.e, `(.8, .2)`.\n",
        "splitfolders.ratio(\"leaves_data\", output=\"leaves_data_base\", seed=1337, ratio=(.80, .20), group_prefix=None) # default values"
      ],
      "execution_count": 8,
      "outputs": [
        {
          "output_type": "stream",
          "name": "stderr",
          "text": [
            "Copying files: 1599 files [00:03, 515.05 files/s]\n"
          ]
        }
      ]
    },
    {
      "cell_type": "code",
      "metadata": {
        "id": "5beWwvLWbMZ7"
      },
      "source": [
        "# Definisikan path untuk data train dan data validation\n",
        "\n",
        "base_dir = 'leaves_data_base'\n",
        "\n",
        "train_dir = os.path.join(base_dir, 'train')\n",
        "validation_dir = os.path.join(base_dir, 'val')"
      ],
      "execution_count": 9,
      "outputs": []
    },
    {
      "cell_type": "markdown",
      "metadata": {
        "id": "ByQPyl5rcAWP"
      },
      "source": [
        "###augmentasi dengan image data generator (keras)"
      ]
    },
    {
      "cell_type": "code",
      "metadata": {
        "id": "VfD7IxqDbQJ2"
      },
      "source": [
        "from tensorflow.keras.preprocessing.image import ImageDataGenerator\n",
        "\n",
        "train_datagen = ImageDataGenerator(\n",
        "                    rescale=1./255,\n",
        "                    )\n",
        " \n",
        "val_datagen = ImageDataGenerator(\n",
        "                    rescale=1./255,\n",
        "                    )"
      ],
      "execution_count": 10,
      "outputs": []
    },
    {
      "cell_type": "code",
      "metadata": {
        "colab": {
          "base_uri": "https://localhost:8080/"
        },
        "id": "_cx-BjU9b1Y5",
        "outputId": "c2a494a1-7b91-44d7-f88b-ce8bf69689f3"
      },
      "source": [
        "train_generator = train_datagen.flow_from_directory(\n",
        "        train_dir,  \n",
        "        target_size=(250, 250),\n",
        "        color_mode='rgb',\n",
        "        batch_size=4,\n",
        "        shuffle=True,\n",
        "        class_mode='sparse')\n",
        " \n",
        "validation_generator = val_datagen.flow_from_directory(\n",
        "        validation_dir, \n",
        "        target_size=(250, 250), \n",
        "        color_mode='rgb',\n",
        "        batch_size=4, \n",
        "        shuffle=True,\n",
        "        class_mode='sparse')"
      ],
      "execution_count": 11,
      "outputs": [
        {
          "output_type": "stream",
          "name": "stdout",
          "text": [
            "Found 1279 images belonging to 32 classes.\n",
            "Found 320 images belonging to 32 classes.\n"
          ]
        }
      ]
    },
    {
      "cell_type": "code",
      "metadata": {
        "colab": {
          "base_uri": "https://localhost:8080/"
        },
        "id": "mVL1_fvIb39P",
        "outputId": "b175af63-0c64-458e-8da0-3fc68bc23b1e"
      },
      "source": [
        "train_generator"
      ],
      "execution_count": 12,
      "outputs": [
        {
          "output_type": "execute_result",
          "data": {
            "text/plain": [
              "<keras.preprocessing.image.DirectoryIterator at 0x7f299c00c950>"
            ]
          },
          "metadata": {},
          "execution_count": 12
        }
      ]
    },
    {
      "cell_type": "markdown",
      "metadata": {
        "id": "iblV28zicdDA"
      },
      "source": [
        "###augmentasi dengan opencv"
      ]
    },
    {
      "cell_type": "code",
      "metadata": {
        "id": "umTdpba9b5Z_"
      },
      "source": [
        "# import the necessary packages\n",
        "from matplotlib import pyplot as plt\n",
        "import numpy as np\n",
        "import argparse\n",
        "import cv2"
      ],
      "execution_count": 13,
      "outputs": []
    },
    {
      "cell_type": "code",
      "metadata": {
        "id": "V1vp_l-5cfiu"
      },
      "source": [
        "def plt_imshow(title, image):\n",
        "\t# convert the image frame BGR to RGB color space and display it\n",
        "\timage = cv2.cvtColor(image, cv2.COLOR_BGR2RGB)\n",
        "\tplt.imshow(image)\n",
        "\tplt.title(title)\n",
        "\tplt.grid(False)\n",
        "\tplt.show()"
      ],
      "execution_count": 14,
      "outputs": []
    },
    {
      "cell_type": "code",
      "metadata": {
        "colab": {
          "base_uri": "https://localhost:8080/",
          "height": 562
        },
        "id": "HFe-MRDBcqgw",
        "outputId": "b5ea8b25-1660-435e-a735-8c5152f64f9f"
      },
      "source": [
        "image = cv2.imread(\"leaves_data_base/train/Anhui Barberry/1552.jpg\")\n",
        "plt_imshow(\"Original\", image)\n",
        "\n",
        "# flip the image horizontally\n",
        "print(\"[INFO] flipping image horizontally...\")\n",
        "flipped = cv2.flip(image, 1)\n",
        "plt_imshow(\"Flipped Horizontally\", flipped)"
      ],
      "execution_count": 15,
      "outputs": [
        {
          "output_type": "display_data",
          "data": {
            "image/png": "[encoded data removed]",
            "text/plain": [
              "<Figure size 432x288 with 1 Axes>"
            ]
          },
          "metadata": {
            "needs_background": "light"
          }
        },
        {
          "output_type": "stream",
          "name": "stdout",
          "text": [
            "[INFO] flipping image horizontally...\n"
          ]
        },
        {
          "output_type": "display_data",
          "data": {
            "image/png": "[encoded data removed]",
            "text/plain": [
              "<Figure size 432x288 with 1 Axes>"
            ]
          },
          "metadata": {
            "needs_background": "light"
          }
        }
      ]
    },
    {
      "cell_type": "code",
      "metadata": {
        "id": "AFGS-0SVc3ag"
      },
      "source": [
        ""
      ],
      "execution_count": null,
      "outputs": []
    }
  ]
}