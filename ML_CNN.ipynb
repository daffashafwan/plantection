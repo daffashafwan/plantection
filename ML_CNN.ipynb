{
  "nbformat": 4,
  "nbformat_minor": 0,
  "metadata": {
    "colab": {
      "name": "ML_CNN.ipynb",
      "provenance": [],
      "include_colab_link": true
    },
    "kernelspec": {
      "name": "python3",
      "display_name": "Python 3"
    },
    "language_info": {
      "name": "python"
    }
  },
  "cells": [
    {
      "cell_type": "markdown",
      "metadata": {
        "id": "view-in-github",
        "colab_type": "text"
      },
      "source": [
        "<a href=\"https://colab.research.google.com/github/daffashafwan/finalprojectml/blob/master/ML_CNN.ipynb\" target=\"_parent\"><img src=\"https://colab.research.google.com/assets/colab-badge.svg\" alt=\"Open In Colab\"/></a>"
      ]
    },
    {
      "cell_type": "code",
      "metadata": {
        "colab": {
          "base_uri": "https://localhost:8080/"
        },
        "id": "TYG8HEb3Dkpa",
        "outputId": "94513364-fe02-41af-eddb-7fc749be5352"
      },
      "source": [
        "!wget -O download.tar.bz2 https://sourceforge.net/projects/flavia/files/Leaf%20Image%20Dataset/1.0/Leaves.tar.bz2/download"
      ],
      "execution_count": 1,
      "outputs": [
        {
          "output_type": "stream",
          "name": "stdout",
          "text": [
            "--2021-11-15 20:30:52--  https://sourceforge.net/projects/flavia/files/Leaf%20Image%20Dataset/1.0/Leaves.tar.bz2/download\n",
            "Resolving sourceforge.net (sourceforge.net)... 204.68.111.105\n",
            "Connecting to sourceforge.net (sourceforge.net)|204.68.111.105|:443... connected.\n",
            "HTTP request sent, awaiting response... 302 Found\n",
            "Location: https://downloads.sourceforge.net/project/flavia/Leaf%20Image%20Dataset/1.0/Leaves.tar.bz2?ts=gAAAAABhksN8DoRqwGq2atZ_ixzRAOhIN2TVGExiuvrRbmUzgkPvJ9Uq83rKEOQHOjzCCggeGLDn1rZfMjH7T3THJ3XyGfRJrA%3D%3D&use_mirror=cfhcable&r= [following]\n",
            "--2021-11-15 20:30:52--  https://downloads.sourceforge.net/project/flavia/Leaf%20Image%20Dataset/1.0/Leaves.tar.bz2?ts=gAAAAABhksN8DoRqwGq2atZ_ixzRAOhIN2TVGExiuvrRbmUzgkPvJ9Uq83rKEOQHOjzCCggeGLDn1rZfMjH7T3THJ3XyGfRJrA%3D%3D&use_mirror=cfhcable&r=\n",
            "Resolving downloads.sourceforge.net (downloads.sourceforge.net)... 204.68.111.105\n",
            "Connecting to downloads.sourceforge.net (downloads.sourceforge.net)|204.68.111.105|:443... connected.\n",
            "HTTP request sent, awaiting response... 302 Found\n",
            "Location: https://cfhcable.dl.sourceforge.net/project/flavia/Leaf%20Image%20Dataset/1.0/Leaves.tar.bz2 [following]\n",
            "--2021-11-15 20:30:52--  https://cfhcable.dl.sourceforge.net/project/flavia/Leaf%20Image%20Dataset/1.0/Leaves.tar.bz2\n",
            "Resolving cfhcable.dl.sourceforge.net (cfhcable.dl.sourceforge.net)... 146.71.73.6\n",
            "Connecting to cfhcable.dl.sourceforge.net (cfhcable.dl.sourceforge.net)|146.71.73.6|:443... connected.\n",
            "HTTP request sent, awaiting response... 200 OK\n",
            "Length: 965715159 (921M) [application/octet-stream]\n",
            "Saving to: ‘download.tar.bz2’\n",
            "\n",
            "download.tar.bz2    100%[===================>] 920.98M  38.0MB/s    in 37s     \n",
            "\n",
            "2021-11-15 20:31:29 (25.1 MB/s) - ‘download.tar.bz2’ saved [965715159/965715159]\n",
            "\n"
          ]
        }
      ]
    },
    {
      "cell_type": "code",
      "metadata": {
        "id": "4rtnNrFsEDIf"
      },
      "source": [
        "#mengekstrak dataset\n",
        "!tar -xf download.tar.bz2"
      ],
      "execution_count": 2,
      "outputs": []
    },
    {
      "cell_type": "code",
      "metadata": {
        "id": "O9zglynvUQcv"
      },
      "source": [
        "!mkdir leaves_data"
      ],
      "execution_count": 3,
      "outputs": []
    },
    {
      "cell_type": "code",
      "metadata": {
        "id": "a4TiiEQ9UTRa"
      },
      "source": [
        "!mkdir 'leaves_data/pubescent bamboo' 'leaves_data/Chinese horse chestnut' 'leaves_data/Anhui Barberry' 'leaves_data/Chinese redbud' 'leaves_data/true indigo' 'leaves_data/Japanese maple' 'leaves_data/Nanmu' 'leaves_data/castor aralia' 'leaves_data/Chinese cinnamon' 'leaves_data/goldenrain tree' 'leaves_data/Big-fruited Holly' 'leaves_data/Japanese cheesewood' 'leaves_data/wintersweet' 'leaves_data/camphortree' 'leaves_data/Japan Arrowwood' 'leaves_data/sweet osmanthus' 'leaves_data/deodar' 'leaves_data/ginkgo, maidenhair tree' 'leaves_data/Crape myrtle, Crepe myrtle' 'leaves_data/oleander' 'leaves_data/yew plum pine' 'leaves_data/Japanese Flowering Cherry' 'leaves_data/Glossy Privet' 'leaves_data/Chinese Toon' 'leaves_data/peach' 'leaves_data/Ford Woodlotus' 'leaves_data/trident maple' 'leaves_data/Beales barberry' 'leaves_data/southern magnolia' 'leaves_data/Canadian poplar' 'leaves_data/Chinese tulip tree' 'leaves_data/tangerine'"
      ],
      "execution_count": 4,
      "outputs": []
    },
    {
      "cell_type": "code",
      "metadata": {
        "id": "zXLlohbdUVCB"
      },
      "source": [
        "import shutil\n",
        "import os\n",
        "\n",
        "for i in range(1552,1602):\n",
        "  paths = os.path.join('Leaves', (str(i) + '.jpg'))\n",
        "  shutil.copy(paths, 'leaves_data/Anhui Barberry')\n",
        "\n",
        "for i in range(3335,3385):\n",
        "  paths = os.path.join('Leaves', (str(i) + '.jpg'))\n",
        "  shutil.copy(paths, 'leaves_data/Beales barberry')\n",
        "\n",
        "for i in range(2001,2050):\n",
        "    paths = os.path.join('Leaves', (str(i) + '.jpg'))\n",
        "    shutil.copy(paths, 'leaves_data/Big-fruited Holly')\n",
        "\n",
        "for i in range(3447,3497):\n",
        "    paths = os.path.join('Leaves', (str(i) + '.jpg'))\n",
        "    shutil.copy(paths, 'leaves_data/Canadian poplar')\n",
        "\n",
        "for i in range(3111,3161):\n",
        "    paths = os.path.join('Leaves', (str(i) + '.jpg'))\n",
        "    shutil.copy(paths, 'leaves_data/Chinese Toon')\n",
        "\n",
        "for i in range(1497,1547):\n",
        "    paths = os.path.join('Leaves', (str(i) + '.jpg'))\n",
        "    shutil.copy(paths, 'leaves_data/Chinese cinnamon')\n",
        "\n",
        "for i in range(1060,1110):\n",
        "    paths = os.path.join('Leaves', (str(i) + '.jpg'))\n",
        "    shutil.copy(paths, 'leaves_data/Chinese horse chestnut')\n",
        "\n",
        "for i in range(1123,1173):\n",
        "    paths = os.path.join('Leaves', (str(i) + '.jpg'))\n",
        "    shutil.copy(paths, 'leaves_data/Chinese redbud')\n",
        "\n",
        "for i in range(3511,3561):\n",
        "    paths = os.path.join('Leaves', (str(i) + '.jpg'))\n",
        "    shutil.copy(paths, 'leaves_data/Chinese tulip tree')\n",
        "\n",
        "for i in range(2486,2536):\n",
        "    paths = os.path.join('Leaves', (str(i) + '.jpg'))\n",
        "    shutil.copy(paths, 'leaves_data/Crape myrtle, Crepe myrtle')\n",
        "\n",
        "for i in range(3230,3280):\n",
        "    paths = os.path.join('Leaves', (str(i) + '.jpg'))\n",
        "    shutil.copy(paths, 'leaves_data/Ford Woodlotus')\n",
        "\n",
        "for i in range(3056,3106):\n",
        "    paths = os.path.join('Leaves', (str(i) + '.jpg'))\n",
        "    shutil.copy(paths, 'leaves_data/Glossy Privet')\n",
        "\n",
        "for i in range(2231,2281):\n",
        "    paths = os.path.join('Leaves', (str(i) + '.jpg'))\n",
        "    shutil.copy(paths, 'leaves_data/Japan Arrowwood')\n",
        "\n",
        "for i in range(3001,3051):\n",
        "    paths = os.path.join('Leaves', (str(i) + '.jpg'))\n",
        "    shutil.copy(paths, 'leaves_data/Japanese Flowering Cherry')\n",
        "\n",
        "for i in range(2051,2101):\n",
        "    paths = os.path.join('Leaves', (str(i) + '.jpg'))\n",
        "    shutil.copy(paths, 'leaves_data/Japanese cheesewood')\n",
        "\n",
        "for i in range(1268,1318):\n",
        "    paths = os.path.join('Leaves', (str(i) + '.jpg'))\n",
        "    shutil.copy(paths, 'leaves_data/Japanese maple')\n",
        "\n",
        "for i in range(1324,1374):\n",
        "    paths = os.path.join('Leaves', (str(i) + '.jpg'))\n",
        "    shutil.copy(paths, 'leaves_data/Nanmu')\n",
        "\n",
        "for i in range(2166,2216):\n",
        "    paths = os.path.join('Leaves', (str(i) + '.jpg'))\n",
        "    shutil.copy(paths, 'leaves_data/camphortree')\n",
        "\n",
        "for i in range(1386,1436):\n",
        "    paths = os.path.join('Leaves', (str(i) + '.jpg'))\n",
        "    shutil.copy(paths, 'leaves_data/castor aralia')\n",
        "\n",
        "for i in range(2347,2397):\n",
        "    paths = os.path.join('Leaves', (str(i) + '.jpg'))\n",
        "    shutil.copy(paths, 'leaves_data/deodar')\n",
        "\n",
        "for i in range(2424,2474):\n",
        "    paths = os.path.join('Leaves', (str(i) + '.jpg'))\n",
        "    shutil.copy(paths, 'leaves_data/ginkgo, maidenhair tree')\n",
        "\n",
        "for i in range(1438,1488):\n",
        "    paths = os.path.join('Leaves', (str(i) + '.jpg'))\n",
        "    shutil.copy(paths, 'leaves_data/goldenrain tree')\n",
        "\n",
        "for i in range(2547,2597):\n",
        "    paths = os.path.join('Leaves', (str(i) + '.jpg'))\n",
        "    shutil.copy(paths, 'leaves_data/oleander')\n",
        "\n",
        "for i in range(3176,3226):\n",
        "    paths = os.path.join('Leaves', (str(i) + '.jpg'))\n",
        "    shutil.copy(paths, 'leaves_data/peach')\n",
        "\n",
        "for i in range(1001,1051):\n",
        "    paths = os.path.join('Leaves', (str(i) + '.jpg'))\n",
        "    shutil.copy(paths, 'leaves_data/pubescent bamboo')\n",
        "\n",
        "for i in range(3390,3440):\n",
        "    paths = os.path.join('Leaves', (str(i) + '.jpg'))\n",
        "    shutil.copy(paths, 'leaves_data/southern magnolia')\n",
        "\n",
        "for i in range(2291,2341):\n",
        "    paths = os.path.join('Leaves', (str(i) + '.jpg'))\n",
        "    shutil.copy(paths, 'leaves_data/sweet osmanthus')\n",
        "\n",
        "for i in range(3566,3616):\n",
        "    paths = os.path.join('Leaves', (str(i) + '.jpg'))\n",
        "    shutil.copy(paths, 'leaves_data/tangerine')\n",
        "\n",
        "for i in range(3282,3332):\n",
        "    paths = os.path.join('Leaves', (str(i) + '.jpg'))\n",
        "    shutil.copy(paths, 'leaves_data/trident maple')\n",
        "\n",
        "for i in range(1195,1245):\n",
        "    paths = os.path.join('Leaves', (str(i) + '.jpg'))\n",
        "    shutil.copy(paths, 'leaves_data/true indigo')\n",
        "\n",
        "for i in range(2114,2164):\n",
        "    paths = os.path.join('Leaves', (str(i) + '.jpg'))\n",
        "    shutil.copy(paths, 'leaves_data/wintersweet')\n",
        "\n",
        "for i in range(2616,2666):\n",
        "    paths = os.path.join('Leaves', (str(i) + '.jpg'))\n",
        "    shutil.copy(paths, 'leaves_data/yew plum pine')"
      ],
      "execution_count": 5,
      "outputs": []
    },
    {
      "cell_type": "code",
      "metadata": {
        "colab": {
          "base_uri": "https://localhost:8080/"
        },
        "id": "FeATs0NmUWxH",
        "outputId": "c2c37092-f0cf-4bf3-cf55-1ca1d9f0eae8"
      },
      "source": [
        "!pip install split-folders"
      ],
      "execution_count": 6,
      "outputs": [
        {
          "output_type": "stream",
          "name": "stdout",
          "text": [
            "Collecting split-folders\n",
            "  Downloading split_folders-0.4.3-py3-none-any.whl (7.4 kB)\n",
            "Installing collected packages: split-folders\n",
            "Successfully installed split-folders-0.4.3\n"
          ]
        }
      ]
    },
    {
      "cell_type": "code",
      "metadata": {
        "id": "yfGLt92sUfRC"
      },
      "source": [
        "!mkdir 'leaves_data_base'"
      ],
      "execution_count": 7,
      "outputs": []
    },
    {
      "cell_type": "code",
      "metadata": {
        "colab": {
          "base_uri": "https://localhost:8080/"
        },
        "id": "OuSUvcw7UgD_",
        "outputId": "a5185c73-103c-4a22-8eae-f28978f0426b"
      },
      "source": [
        "import splitfolders  # or import split_folders\n",
        "\n",
        "# Split with a ratio.\n",
        "# To only split into training and validation set, set a tuple to `ratio`, i.e, `(.8, .2)`.\n",
        "splitfolders.ratio(\"leaves_data\", output=\"leaves_data_base\", seed=1337, ratio=(.8, .2), group_prefix=None) # default values"
      ],
      "execution_count": 9,
      "outputs": [
        {
          "output_type": "stream",
          "name": "stderr",
          "text": [
            "Copying files: 1599 files [00:21, 75.42 files/s] \n"
          ]
        }
      ]
    },
    {
      "cell_type": "code",
      "metadata": {
        "id": "y9L_1kqnEEjc"
      },
      "source": [
        "# Definisikan path untuk data train dan data validation\n",
        "\n",
        "base_dir = 'leaves_data_base'\n",
        "\n",
        "train_dir = os.path.join(base_dir, 'train')\n",
        "validation_dir = os.path.join(base_dir, 'val')"
      ],
      "execution_count": 10,
      "outputs": []
    },
    {
      "cell_type": "code",
      "metadata": {
        "id": "9gc0BCSREF0M"
      },
      "source": [
        "import cv2\n",
        "import numpy as np\n",
        "\n",
        "# Gather data train\n",
        "train_data = []\n",
        "train_label = []\n",
        "for r, d, f in os.walk(train_dir):\n",
        "    for file in f:\n",
        "        if \".jpg\" in file:\n",
        "            imagePath = os.path.join(r, file)\n",
        "            image = cv2.imread(imagePath)\n",
        "            image = cv2.resize(image, (150,150))\n",
        "            train_data.append(image)\n",
        "            label = imagePath.split(os.path.sep)[-2]\n",
        "            train_label.append(label)\n",
        "\n",
        "train_data = np.array(train_data)\n",
        "train_label = np.array(train_label)"
      ],
      "execution_count": 11,
      "outputs": []
    },
    {
      "cell_type": "code",
      "metadata": {
        "id": "FuoKFhhVEG_O"
      },
      "source": [
        "# Gather data validation\n",
        "val_data = []\n",
        "val_label = []\n",
        "for r, d, f in os.walk(validation_dir):\n",
        "    for file in f:\n",
        "        if \".jpg\" in file:\n",
        "            imagePath = os.path.join(r, file)\n",
        "            image = cv2.imread(imagePath)\n",
        "            image = cv2.resize(image, (150,150))\n",
        "            val_data.append(image)\n",
        "            label = imagePath.split(os.path.sep)[-2]\n",
        "            val_label.append(label)\n",
        "\n",
        "val_data = np.array(val_data)\n",
        "val_label = np.array(val_label)"
      ],
      "execution_count": 12,
      "outputs": []
    },
    {
      "cell_type": "markdown",
      "metadata": {
        "id": "kiXbwrN3ELqv"
      },
      "source": [
        "<h3>Data Preprocessing</h3>"
      ]
    },
    {
      "cell_type": "code",
      "metadata": {
        "colab": {
          "base_uri": "https://localhost:8080/"
        },
        "id": "m5VhnvtrEI1I",
        "outputId": "8b9024ad-052b-490a-dc1b-a3cc06d4bdf4"
      },
      "source": [
        "# Tampilkan shape dari data train dan data validation\n",
        "print(\"Train Data = \", train_data.shape)\n",
        "print(\"Train Label = \", train_label.shape)\n",
        "print(\"Validation Data = \", val_data.shape)\n",
        "print(\"Validation Label = \", val_label.shape)"
      ],
      "execution_count": 13,
      "outputs": [
        {
          "output_type": "stream",
          "name": "stdout",
          "text": [
            "Train Data =  (1279, 150, 150, 3)\n",
            "Train Label =  (1279,)\n",
            "Validation Data =  (320, 150, 150, 3)\n",
            "Validation Label =  (320,)\n"
          ]
        }
      ]
    },
    {
      "cell_type": "code",
      "metadata": {
        "colab": {
          "base_uri": "https://localhost:8080/"
        },
        "id": "q1LVp6dCENne",
        "outputId": "bbab59aa-b8c3-458c-a043-6bcc63bdb275"
      },
      "source": [
        "# Normalisasi dataset\n",
        "print(\"Data sebelum di-normalisasi \", train_data[0][0][0])\n",
        "\n",
        "x_train = train_data.astype('float32') / 255.0\n",
        "x_val = val_data.astype('float32') / 255.0\n",
        "print(\"Data setelah di-normalisasi \", x_train[0][0][0])"
      ],
      "execution_count": 14,
      "outputs": [
        {
          "output_type": "stream",
          "name": "stdout",
          "text": [
            "Data sebelum di-normalisasi  [255 255 255]\n",
            "Data setelah di-normalisasi  [1. 1. 1.]\n"
          ]
        }
      ]
    },
    {
      "cell_type": "code",
      "metadata": {
        "colab": {
          "base_uri": "https://localhost:8080/"
        },
        "id": "tc7FivC6EPhm",
        "outputId": "c3d07742-2c30-4efa-eab7-d88ba174af4e"
      },
      "source": [
        "# Transformasi label encoder\n",
        "from sklearn.preprocessing import LabelEncoder\n",
        "\n",
        "print(\"Label sebelum di-encoder \", train_label[995:1005])\n",
        "\n",
        "lb = LabelEncoder()\n",
        "y_train = lb.fit_transform(train_label)\n",
        "y_val = lb.fit_transform(val_label)\n",
        "\n",
        "print(\"Label setelah di-encoder \", y_train[995:1005])"
      ],
      "execution_count": 15,
      "outputs": [
        {
          "output_type": "stream",
          "name": "stdout",
          "text": [
            "Label sebelum di-encoder  ['Nanmu' 'Nanmu' 'Nanmu' 'Nanmu' 'Glossy Privet' 'Glossy Privet'\n",
            " 'Glossy Privet' 'Glossy Privet' 'Glossy Privet' 'Glossy Privet']\n",
            "Label setelah di-encoder  [16 16 16 16 11 11 11 11 11 11]\n"
          ]
        }
      ]
    },
    {
      "cell_type": "markdown",
      "metadata": {
        "id": "4jVWbOhOEzQJ"
      },
      "source": [
        "<h3>Definisikan Model</h3>"
      ]
    },
    {
      "cell_type": "code",
      "metadata": {
        "id": "usLiFiwAEvVb"
      },
      "source": [
        "from tensorflow.keras.models import Sequential\n",
        "from tensorflow.keras.layers import InputLayer, Dense, Conv2D, MaxPool2D, Flatten"
      ],
      "execution_count": 16,
      "outputs": []
    },
    {
      "cell_type": "code",
      "metadata": {
        "id": "rDwzxacpE1ei"
      },
      "source": [
        "# Feature Extraction Layer\n",
        "model = Sequential()\n",
        "\n",
        "model.add(InputLayer(input_shape=[150,150,3]))\n",
        "model.add(Conv2D(filters=16, kernel_size=3, strides=1, padding='same', activation='relu'))\n",
        "model.add(MaxPool2D(pool_size=2, padding='same'))\n",
        "model.add(Conv2D(filters=32, kernel_size=3, strides=1, padding='same', activation='relu'))\n",
        "model.add(MaxPool2D(pool_size=2, padding='same'))\n",
        "model.add(Conv2D(filters=64, kernel_size=3, strides=1, padding='same', activation='relu'))\n",
        "model.add(MaxPool2D(pool_size=2, padding='same'))\n",
        "model.add(Flatten())"
      ],
      "execution_count": 17,
      "outputs": []
    },
    {
      "cell_type": "code",
      "metadata": {
        "id": "Sud1AUF0E2k8"
      },
      "source": [
        "# Fully Connected Layer\n",
        "model.add(Dense(256, activation='relu'))\n",
        "model.add(Dense(128, activation='relu'))\n",
        "model.add(Dense(64, activation='relu'))\n",
        "model.add(Dense(32, activation='softmax'))"
      ],
      "execution_count": 18,
      "outputs": []
    },
    {
      "cell_type": "code",
      "metadata": {
        "colab": {
          "base_uri": "https://localhost:8080/"
        },
        "id": "XW-KE9ePE466",
        "outputId": "d779429a-f734-4ac0-d4d6-ab2784678ad4"
      },
      "source": [
        "# Print model summary\n",
        "print(model.summary())"
      ],
      "execution_count": 19,
      "outputs": [
        {
          "output_type": "stream",
          "name": "stdout",
          "text": [
            "Model: \"sequential\"\n",
            "_________________________________________________________________\n",
            " Layer (type)                Output Shape              Param #   \n",
            "=================================================================\n",
            " conv2d (Conv2D)             (None, 150, 150, 16)      448       \n",
            "                                                                 \n",
            " max_pooling2d (MaxPooling2D  (None, 75, 75, 16)       0         \n",
            " )                                                               \n",
            "                                                                 \n",
            " conv2d_1 (Conv2D)           (None, 75, 75, 32)        4640      \n",
            "                                                                 \n",
            " max_pooling2d_1 (MaxPooling  (None, 38, 38, 32)       0         \n",
            " 2D)                                                             \n",
            "                                                                 \n",
            " conv2d_2 (Conv2D)           (None, 38, 38, 64)        18496     \n",
            "                                                                 \n",
            " max_pooling2d_2 (MaxPooling  (None, 19, 19, 64)       0         \n",
            " 2D)                                                             \n",
            "                                                                 \n",
            " flatten (Flatten)           (None, 23104)             0         \n",
            "                                                                 \n",
            " dense (Dense)               (None, 256)               5914880   \n",
            "                                                                 \n",
            " dense_1 (Dense)             (None, 128)               32896     \n",
            "                                                                 \n",
            " dense_2 (Dense)             (None, 64)                8256      \n",
            "                                                                 \n",
            " dense_3 (Dense)             (None, 32)                2080      \n",
            "                                                                 \n",
            "=================================================================\n",
            "Total params: 5,981,696\n",
            "Trainable params: 5,981,696\n",
            "Non-trainable params: 0\n",
            "_________________________________________________________________\n",
            "None\n"
          ]
        }
      ]
    },
    {
      "cell_type": "code",
      "metadata": {
        "colab": {
          "base_uri": "https://localhost:8080/"
        },
        "id": "Tais64D7E5Zo",
        "outputId": "1cec1d1e-9f23-4cc3-b29c-f64350e486dd"
      },
      "source": [
        "# Compile model\n",
        "from tensorflow.keras.optimizers import Adam\n",
        "\n",
        "model.compile(optimizer=Adam(lr=0.001), \n",
        "              loss='sparse_categorical_crossentropy', \n",
        "              metrics=['acc'])"
      ],
      "execution_count": 20,
      "outputs": [
        {
          "output_type": "stream",
          "name": "stderr",
          "text": [
            "/usr/local/lib/python3.7/dist-packages/keras/optimizer_v2/adam.py:105: UserWarning: The `lr` argument is deprecated, use `learning_rate` instead.\n",
            "  super(Adam, self).__init__(name, **kwargs)\n"
          ]
        }
      ]
    },
    {
      "cell_type": "markdown",
      "metadata": {
        "id": "NTNBH19iE8kt"
      },
      "source": [
        "<h3>Training Model</h3>"
      ]
    },
    {
      "cell_type": "code",
      "metadata": {
        "colab": {
          "base_uri": "https://localhost:8080/"
        },
        "id": "p4Vr8dyvE6pM",
        "outputId": "d2e396f2-b8aa-4fab-e656-c42fd1465761"
      },
      "source": [
        "H = model.fit(x_train, y_train, batch_size=32, epochs=15, validation_data=(x_val, y_val))"
      ],
      "execution_count": 21,
      "outputs": [
        {
          "output_type": "stream",
          "name": "stdout",
          "text": [
            "Epoch 1/15\n",
            "40/40 [==============================] - 27s 644ms/step - loss: 3.4066 - acc: 0.0711 - val_loss: 2.8446 - val_acc: 0.2000\n",
            "Epoch 2/15\n",
            "40/40 [==============================] - 26s 642ms/step - loss: 2.0650 - acc: 0.3925 - val_loss: 1.2325 - val_acc: 0.6125\n",
            "Epoch 3/15\n",
            "40/40 [==============================] - 26s 644ms/step - loss: 1.0500 - acc: 0.6607 - val_loss: 0.9358 - val_acc: 0.7000\n",
            "Epoch 4/15\n",
            "40/40 [==============================] - 26s 641ms/step - loss: 0.7127 - acc: 0.7740 - val_loss: 0.6459 - val_acc: 0.8531\n",
            "Epoch 5/15\n",
            "40/40 [==============================] - 26s 642ms/step - loss: 0.4972 - acc: 0.8421 - val_loss: 0.6661 - val_acc: 0.8031\n",
            "Epoch 6/15\n",
            "40/40 [==============================] - 26s 641ms/step - loss: 0.2958 - acc: 0.8991 - val_loss: 0.4927 - val_acc: 0.8750\n",
            "Epoch 7/15\n",
            "40/40 [==============================] - 26s 643ms/step - loss: 0.1796 - acc: 0.9390 - val_loss: 0.5019 - val_acc: 0.8750\n",
            "Epoch 8/15\n",
            "40/40 [==============================] - 26s 648ms/step - loss: 0.1332 - acc: 0.9484 - val_loss: 0.5974 - val_acc: 0.8656\n",
            "Epoch 9/15\n",
            "40/40 [==============================] - 26s 646ms/step - loss: 0.1663 - acc: 0.9500 - val_loss: 0.4202 - val_acc: 0.9031\n",
            "Epoch 10/15\n",
            "40/40 [==============================] - 26s 647ms/step - loss: 0.1157 - acc: 0.9625 - val_loss: 0.6759 - val_acc: 0.8625\n",
            "Epoch 11/15\n",
            "40/40 [==============================] - 26s 648ms/step - loss: 0.1163 - acc: 0.9656 - val_loss: 0.4606 - val_acc: 0.8625\n",
            "Epoch 12/15\n",
            "40/40 [==============================] - 26s 645ms/step - loss: 0.1038 - acc: 0.9719 - val_loss: 0.5477 - val_acc: 0.8875\n",
            "Epoch 13/15\n",
            "40/40 [==============================] - 26s 644ms/step - loss: 0.0744 - acc: 0.9781 - val_loss: 0.5227 - val_acc: 0.9000\n",
            "Epoch 14/15\n",
            "40/40 [==============================] - 26s 641ms/step - loss: 0.0314 - acc: 0.9914 - val_loss: 0.5159 - val_acc: 0.9062\n",
            "Epoch 15/15\n",
            "40/40 [==============================] - 26s 641ms/step - loss: 0.0049 - acc: 1.0000 - val_loss: 0.5202 - val_acc: 0.9125\n"
          ]
        }
      ]
    },
    {
      "cell_type": "markdown",
      "metadata": {
        "id": "HuxjW35RFCZ6"
      },
      "source": [
        "<h3>Evaluasi Model</h3>"
      ]
    },
    {
      "cell_type": "code",
      "metadata": {
        "colab": {
          "base_uri": "https://localhost:8080/",
          "height": 299
        },
        "id": "1AM3ms3zE_AU",
        "outputId": "c433a4ad-d8fb-4df5-acb5-cf07fecea0a4"
      },
      "source": [
        "%matplotlib inline\n",
        "\n",
        "import matplotlib.pyplot as plt\n",
        "\n",
        "plt.style.use(\"ggplot\")\n",
        "plt.figure()\n",
        "plt.plot(np.arange(0, 15), H.history[\"loss\"], label=\"train_loss\")\n",
        "plt.plot(np.arange(0, 15), H.history[\"val_loss\"], label=\"val_loss\")\n",
        "plt.title(\"Loss Plot\")\n",
        "plt.xlabel(\"Epoch #\")\n",
        "plt.ylabel(\"Loss\")\n",
        "plt.legend()\n",
        "plt.show()"
      ],
      "execution_count": 24,
      "outputs": [
        {
          "output_type": "display_data",
          "data": {
            "image/png": "[encoded data removed]",
            "text/plain": [
              "<Figure size 432x288 with 1 Axes>"
            ]
          },
          "metadata": {}
        }
      ]
    },
    {
      "cell_type": "code",
      "metadata": {
        "colab": {
          "base_uri": "https://localhost:8080/",
          "height": 299
        },
        "id": "q1SJWudcFEDL",
        "outputId": "0bc147d8-0b44-451b-93e1-0b6ab3769fd9"
      },
      "source": [
        "plt.style.use(\"ggplot\")\n",
        "plt.figure()\n",
        "plt.plot(np.arange(0, 15), H.history[\"acc\"], label=\"train_acc\")\n",
        "plt.plot(np.arange(0, 15), H.history[\"val_acc\"], label=\"val_acc\")\n",
        "plt.title(\"Accuracy Plot\")\n",
        "plt.xlabel(\"Epoch #\")\n",
        "plt.ylabel(\"Acc\")\n",
        "plt.legend()\n",
        "plt.show()"
      ],
      "execution_count": 23,
      "outputs": [
        {
          "output_type": "display_data",
          "data": {
            "image/png": "[encoded data removed]",
            "text/plain": [
              "<Figure size 432x288 with 1 Axes>"
            ]
          },
          "metadata": {}
        }
      ]
    },
    {
      "cell_type": "code",
      "metadata": {
        "colab": {
          "base_uri": "https://localhost:8080/"
        },
        "id": "H_8mB3igFG-x",
        "outputId": "257d9e25-5fdc-441d-b627-adb1dfa5fcdb"
      },
      "source": [
        "from sklearn.metrics import classification_report\n",
        "\n",
        "pred = model.predict(x_val)\n",
        "labels = (pred > 0.5).astype(np.int)\n",
        "\n",
        "print(classification_report(y_val, labels))"
      ],
      "execution_count": null,
      "outputs": [
        {
          "output_type": "stream",
          "name": "stdout",
          "text": [
            "              precision    recall  f1-score   support\n",
            "\n",
            "           0       0.74      0.68      0.71       500\n",
            "           1       0.71      0.76      0.73       500\n",
            "\n",
            "    accuracy                           0.72      1000\n",
            "   macro avg       0.72      0.72      0.72      1000\n",
            "weighted avg       0.72      0.72      0.72      1000\n",
            "\n"
          ]
        }
      ]
    }
  ]
}